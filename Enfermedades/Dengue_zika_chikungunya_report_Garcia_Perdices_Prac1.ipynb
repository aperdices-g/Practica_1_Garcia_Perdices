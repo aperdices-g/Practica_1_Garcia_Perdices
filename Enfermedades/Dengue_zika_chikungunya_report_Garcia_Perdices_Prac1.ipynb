{
 "cells": [
  {
   "cell_type": "markdown",
   "metadata": {},
   "source": [
    "**========================**\n",
    "\n",
    "**Análisis casos de Dengue**\n",
    "\n",
    "**========================**"
   ]
  },
  {
   "cell_type": "code",
   "execution_count": 3,
   "metadata": {},
   "outputs": [
    {
     "data": {
      "text/html": [
       "<div>\n",
       "<style scoped>\n",
       "    .dataframe tbody tr th:only-of-type {\n",
       "        vertical-align: middle;\n",
       "    }\n",
       "\n",
       "    .dataframe tbody tr th {\n",
       "        vertical-align: top;\n",
       "    }\n",
       "\n",
       "    .dataframe thead th {\n",
       "        text-align: right;\n",
       "    }\n",
       "</style>\n",
       "<table border=\"1\" class=\"dataframe\">\n",
       "  <thead>\n",
       "    <tr style=\"text-align: right;\">\n",
       "      <th></th>\n",
       "      <th>Unnamed: 0</th>\n",
       "      <th>Country</th>\n",
       "      <th>Reported_2014</th>\n",
       "      <th>Rate_2014</th>\n",
       "      <th>Reported_2015</th>\n",
       "      <th>Rate_2015</th>\n",
       "      <th>Reported_2016</th>\n",
       "      <th>Rate_2016</th>\n",
       "      <th>Reported_2017</th>\n",
       "      <th>Rate_2017</th>\n",
       "      <th>Reported_2018</th>\n",
       "      <th>Rate_2018</th>\n",
       "      <th>ASR_2018</th>\n",
       "      <th>Confirmed</th>\n",
       "    </tr>\n",
       "  </thead>\n",
       "  <tbody>\n",
       "    <tr>\n",
       "      <th>0</th>\n",
       "      <td>0</td>\n",
       "      <td>Austria</td>\n",
       "      <td>91</td>\n",
       "      <td>1.1</td>\n",
       "      <td>103</td>\n",
       "      <td>1.2</td>\n",
       "      <td>116</td>\n",
       "      <td>1.3</td>\n",
       "      <td>85</td>\n",
       "      <td>1.0</td>\n",
       "      <td>85</td>\n",
       "      <td>1.0</td>\n",
       "      <td>1.0</td>\n",
       "      <td>85</td>\n",
       "    </tr>\n",
       "    <tr>\n",
       "      <th>1</th>\n",
       "      <td>1</td>\n",
       "      <td>Belgium</td>\n",
       "      <td>110</td>\n",
       "      <td>1.0</td>\n",
       "      <td>108</td>\n",
       "      <td>1.0</td>\n",
       "      <td>114</td>\n",
       "      <td>1.0</td>\n",
       "      <td>77</td>\n",
       "      <td>0.7</td>\n",
       "      <td>101</td>\n",
       "      <td>0.9</td>\n",
       "      <td>0.9</td>\n",
       "      <td>101</td>\n",
       "    </tr>\n",
       "    <tr>\n",
       "      <th>2</th>\n",
       "      <td>2</td>\n",
       "      <td>Bulgaria</td>\n",
       "      <td>.</td>\n",
       "      <td>.</td>\n",
       "      <td>.</td>\n",
       "      <td>.</td>\n",
       "      <td>.</td>\n",
       "      <td>.</td>\n",
       "      <td>.</td>\n",
       "      <td>.</td>\n",
       "      <td>.</td>\n",
       "      <td>.</td>\n",
       "      <td>.</td>\n",
       "      <td>.</td>\n",
       "    </tr>\n",
       "    <tr>\n",
       "      <th>3</th>\n",
       "      <td>3</td>\n",
       "      <td>Croatia</td>\n",
       "      <td>2</td>\n",
       "      <td>0.0</td>\n",
       "      <td>.</td>\n",
       "      <td>.</td>\n",
       "      <td>2</td>\n",
       "      <td>0.0</td>\n",
       "      <td>0</td>\n",
       "      <td>0.0</td>\n",
       "      <td>2</td>\n",
       "      <td>0.0</td>\n",
       "      <td>0.1</td>\n",
       "      <td>2</td>\n",
       "    </tr>\n",
       "    <tr>\n",
       "      <th>4</th>\n",
       "      <td>4</td>\n",
       "      <td>Cyprus</td>\n",
       "      <td>.</td>\n",
       "      <td>.</td>\n",
       "      <td>.</td>\n",
       "      <td>.</td>\n",
       "      <td>.</td>\n",
       "      <td>.</td>\n",
       "      <td>.</td>\n",
       "      <td>.</td>\n",
       "      <td>.</td>\n",
       "      <td>.</td>\n",
       "      <td>.</td>\n",
       "      <td>.</td>\n",
       "    </tr>\n",
       "  </tbody>\n",
       "</table>\n",
       "</div>"
      ],
      "text/plain": [
       "   Unnamed: 0   Country Reported_2014 Rate_2014 Reported_2015 Rate_2015  \\\n",
       "0           0   Austria            91       1.1           103       1.2   \n",
       "1           1   Belgium           110       1.0           108       1.0   \n",
       "2           2  Bulgaria             .         .             .         .   \n",
       "3           3   Croatia             2       0.0             .         .   \n",
       "4           4    Cyprus             .         .             .         .   \n",
       "\n",
       "  Reported_2016 Rate_2016 Reported_2017 Rate_2017 Reported_2018 Rate_2018  \\\n",
       "0           116       1.3            85       1.0            85       1.0   \n",
       "1           114       1.0            77       0.7           101       0.9   \n",
       "2             .         .             .         .             .         .   \n",
       "3             2       0.0             0       0.0             2       0.0   \n",
       "4             .         .             .         .             .         .   \n",
       "\n",
       "  ASR_2018 Confirmed  \n",
       "0      1.0        85  \n",
       "1      0.9       101  \n",
       "2        .         .  \n",
       "3      0.1         2  \n",
       "4        .         .  "
      ]
     },
     "execution_count": 3,
     "metadata": {},
     "output_type": "execute_result"
    }
   ],
   "source": [
    "#Importamos el archivo desde la localización en la que se guardó anteriormente\n",
    "import pandas as pd\n",
    "datos=pd.read_csv(open('c:/temp/dengue-annual-epidemiological-report-2018.csv'),delimiter='\\t')\n",
    "datos.head()"
   ]
  },
  {
   "cell_type": "code",
   "execution_count": 4,
   "metadata": {},
   "outputs": [
    {
     "name": "stdout",
     "output_type": "stream",
     "text": [
      "Número de filas 36\n",
      "Numero de columnas 14\n",
      "[RangeIndex(start=0, stop=36, step=1), Index(['Unnamed: 0', 'Country', 'Reported_2014', 'Rate_2014', 'Reported_2015',\n",
      "       'Rate_2015', 'Reported_2016', 'Rate_2016', 'Reported_2017', 'Rate_2017',\n",
      "       'Reported_2018', 'Rate_2018', 'ASR_2018', 'Confirmed'],\n",
      "      dtype='object')]\n"
     ]
    }
   ],
   "source": [
    "# Caracteristicas básicas del dataframe.\n",
    "# Número de filas\n",
    "print('Número de filas',len(datos))\n",
    "# Número de columnas.\n",
    "print('Numero de columnas',len(datos.axes[1]))\n",
    "# Nombres de las columnas\n",
    "print (datos.axes)\n"
   ]
  },
  {
   "cell_type": "code",
   "execution_count": 5,
   "metadata": {},
   "outputs": [
    {
     "data": {
      "text/html": [
       "<div>\n",
       "<style scoped>\n",
       "    .dataframe tbody tr th:only-of-type {\n",
       "        vertical-align: middle;\n",
       "    }\n",
       "\n",
       "    .dataframe tbody tr th {\n",
       "        vertical-align: top;\n",
       "    }\n",
       "\n",
       "    .dataframe thead th {\n",
       "        text-align: right;\n",
       "    }\n",
       "</style>\n",
       "<table border=\"1\" class=\"dataframe\">\n",
       "  <thead>\n",
       "    <tr style=\"text-align: right;\">\n",
       "      <th></th>\n",
       "      <th>Country</th>\n",
       "      <th>Reported_2014</th>\n",
       "      <th>Reported_2016</th>\n",
       "      <th>Reported_2017</th>\n",
       "      <th>Reported_2018</th>\n",
       "    </tr>\n",
       "  </thead>\n",
       "  <tbody>\n",
       "    <tr>\n",
       "      <th>1</th>\n",
       "      <td>Belgium</td>\n",
       "      <td>110</td>\n",
       "      <td>114</td>\n",
       "      <td>77</td>\n",
       "      <td>101</td>\n",
       "    </tr>\n",
       "    <tr>\n",
       "      <th>12</th>\n",
       "      <td>Germany</td>\n",
       "      <td>626</td>\n",
       "      <td>958</td>\n",
       "      <td>635</td>\n",
       "      <td>613</td>\n",
       "    </tr>\n",
       "    <tr>\n",
       "      <th>17</th>\n",
       "      <td>Italy</td>\n",
       "      <td>79</td>\n",
       "      <td>106</td>\n",
       "      <td>95</td>\n",
       "      <td>108</td>\n",
       "    </tr>\n",
       "    <tr>\n",
       "      <th>30</th>\n",
       "      <td>Spain</td>\n",
       "      <td>0</td>\n",
       "      <td>261</td>\n",
       "      <td>128</td>\n",
       "      <td>181</td>\n",
       "    </tr>\n",
       "  </tbody>\n",
       "</table>\n",
       "</div>"
      ],
      "text/plain": [
       "    Country Reported_2014 Reported_2016 Reported_2017 Reported_2018\n",
       "1   Belgium           110           114            77           101\n",
       "12  Germany           626           958           635           613\n",
       "17    Italy            79           106            95           108\n",
       "30    Spain             0           261           128           181"
      ]
     },
     "execution_count": 5,
     "metadata": {},
     "output_type": "execute_result"
    }
   ],
   "source": [
    "#Nos quedamos con las columnas \"Reported_2014\",\"Reported_2016\",\"Reported_2017\",\"Reported_2018\"\n",
    "#Seguimos el estudio con los mismos paises Italia, Bélgica, Alemania y España.\n",
    "df1=datos.loc[(datos['Country']=='Italy')|(datos['Country']=='Germany')|(datos['Country']=='Belgium')|(datos['Country']=='Spain'),:]\n",
    "df1=df1.loc[:,[\"Country\",\"Reported_2014\",\"Reported_2016\",\"Reported_2017\",\"Reported_2018\"]]\n",
    "df1.head()\n",
    "\n",
    "\n"
   ]
  },
  {
   "cell_type": "code",
   "execution_count": 6,
   "metadata": {},
   "outputs": [
    {
     "name": "stdout",
     "output_type": "stream",
     "text": [
      "['Belgium', 'Germany', 'Italy', 'Spain']\n"
     ]
    },
    {
     "data": {
      "text/plain": [
       "<Figure size 640x480 with 1 Axes>"
      ]
     },
     "metadata": {},
     "output_type": "display_data"
    }
   ],
   "source": [
    "# Comparativa de paises elegidos por años.\n",
    "\n",
    "import numpy as np\n",
    "import matplotlib.pyplot as plt\n",
    "\n",
    "catorce=df1[\"Reported_2014\"]=df1[\"Reported_2014\"].tolist()#lista con los valores por años\n",
    "dieciseis=df1[\"Reported_2016\"]=df1[\"Reported_2016\"].tolist()\n",
    "diecisiete=df1[\"Reported_2017\"]=df1[\"Reported_2017\"].tolist()\n",
    "dieciocho=df1[\"Reported_2018\"]=df1[\"Reported_2018\"].tolist()\n",
    "\n",
    "catorce = list(map(int, catorce))\n",
    "dieciseis = list(map(int, dieciseis))\n",
    "diecisiete = list(map(int, diecisiete))\n",
    "dieciocho = list(map(int, dieciocho))\n",
    "\n",
    "data = [catorce,dieciseis,diecisiete,dieciocho]\n",
    "\n",
    "labels=['2014','2016','2017','2018'] #etiquetas con los años\n",
    "x = np.arange(len(labels))  # Localización de etiquetas\n",
    "country=df1['Country'].tolist()#lista de paises\n",
    "print (country)\n",
    "\n",
    "\n",
    "X = np.arange(4)\n",
    "fig = plt.figure()\n",
    "ax = fig.add_axes([0,0,1,1])\n",
    "ax.bar(X + 0.00, data[0], color = 'b', width = 0.25,label=labels[0])\n",
    "ax.bar(X + 0.25, data[1], color = 'g', width = 0.25,label=labels[1])\n",
    "ax.bar(X + 0.50, data[2], color = 'r', width = 0.25,label=labels[2])\n",
    "ax.bar(X + 0.75, data[3], color = 'y', width = 0.25,label=labels[3])\n",
    "ax.set_ylabel('Scores')\n",
    "ax.set_title('Cases Dengue by year and Country')\n",
    "ax.set_xticks(x)\n",
    "ax.set_xticklabels(country)\n",
    "ax.legend()\n",
    "plt.show()"
   ]
  },
  {
   "cell_type": "markdown",
   "metadata": {},
   "source": [
    "**CASOS DENGUE POR AÑO Y PAIS (BÉLGICA,ALEMANIA,ITALIA,ESPAÑA)**\n",
    "\n",
    "**==============================================================**\n",
    "\n",
    "Observamos un mayor número de infecciones en **Alemania**, con un repunte de casos en el **año 2016** para todos los paises, especialmente para Alemania y España.\n",
    "La infección que más **predomina es Dengue** con una diferencia notable en relación con el resto de enfermedades estudiadas.\n",
    "\n"
   ]
  },
  {
   "cell_type": "code",
   "execution_count": 28,
   "metadata": {},
   "outputs": [
    {
     "data": {
      "image/png": "[encoded data removed]",
      "text/plain": [
       "<Figure size 432x288 with 1 Axes>"
      ]
     },
     "metadata": {
      "needs_background": "light"
     },
     "output_type": "display_data"
    }
   ],
   "source": [
    "#Análisis estadístico para Dengue en España.\n",
    "import seaborn as sns\n",
    "\n",
    "\n",
    "df1e=df1.iloc[3,:].tolist()\n",
    "df1e=df1e[1:5]\n",
    "df1e=list(map(int,df1e))\n",
    "df1e\n",
    "sns.boxplot(df1e)\n",
    "\n",
    "plt.title('Dengue en España 2014-2018')\n",
    "plt.show()\n",
    "\n"
   ]
  },
  {
   "cell_type": "code",
   "execution_count": 8,
   "metadata": {},
   "outputs": [
    {
     "data": {
      "image/png": "[encoded data removed]",
      "text/plain": [
       "<Figure size 432x288 with 1 Axes>"
      ]
     },
     "metadata": {
      "needs_background": "light"
     },
     "output_type": "display_data"
    }
   ],
   "source": [
    "#Análisis estadístico para Dengue en Alemania.\n",
    "import seaborn as sns\n",
    "\n",
    "\n",
    "df1a=df1.iloc[1,:].tolist()\n",
    "df1a=df1a[1:5]\n",
    "df1a=list(map(int,df1a))\n",
    "df1a\n",
    "sns.boxplot(df1a)\n",
    "\n",
    "plt.title('Dengue en Alemania 2014-2018')\n",
    "plt.show()"
   ]
  },
  {
   "cell_type": "markdown",
   "metadata": {},
   "source": [
    "Comparando los diagramas de cajas correspondientes a España y Alemania en los años 2014-2018, observamos que la mitad de los registros para ambos países , se encuentran en los intervalos aproximados de **[100-200] casos para España y [600-700] para Alemania.**"
   ]
  },
  {
   "cell_type": "code",
   "execution_count": 9,
   "metadata": {},
   "outputs": [
    {
     "data": {
      "image/png": "[encoded data removed]",
      "text/plain": [
       "<Figure size 432x288 with 1 Axes>"
      ]
     },
     "metadata": {
      "needs_background": "light"
     },
     "output_type": "display_data"
    }
   ],
   "source": [
    "#Transformamos los datos del dataframe ->Valores enteros\n",
    "paises=['Spain','Germany']\n",
    "\n",
    "r_16=[df1e,df1a]# Filas tranformadas anteriormente ->de str a int\n",
    "r_16=pd.DataFrame(r_16)\n",
    "r_16['Country']=paises\n",
    "p=r_16['Country']\n",
    "#Renombramos columnas.\n",
    "r_16.rename(columns={0:'2014',1:'2016',2:'2017',3:'2018'},inplace=True)\n",
    "#Procedemos con el gráfico\n",
    "#https://pandas.pydata.org/pandas-docs/stable/reference/api/pandas.DataFrame.plot.html\n",
    "\n",
    "\n",
    "x=np.arange(2)\n",
    "r_16.plot(kind='bar',use_index=False,title= 'Dengue España vs Alemania',legend=True)\n",
    "plt.xticks(x, ('Spain', 'Germany'))\n",
    "plt.show()\n",
    "r_16\n",
    "\n",
    "\n",
    "plt.show()"
   ]
  },
  {
   "cell_type": "markdown",
   "metadata": {},
   "source": [
    "Confirmando los resultados obtenidos en gráficos anteriores, observamos una mayor incidencia de Dengue en Alemania con un repunte de casos en el año 2016. En España, no se registró ningún caso de Dengue en 2014."
   ]
  },
  {
   "cell_type": "code",
   "execution_count": 10,
   "metadata": {},
   "outputs": [
    {
     "data": {
      "image/png": "[encoded data removed]",
      "text/plain": [
       "<Figure size 432x288 with 1 Axes>"
      ]
     },
     "metadata": {
      "needs_background": "light"
     },
     "output_type": "display_data"
    }
   ],
   "source": [
    "#GRAFICO DENGUE POR AÑOS EN ALEMANIA Y ESPAÑA\n",
    "#============================================\n",
    "\n",
    "#Grafico obteniendo vectores por filas\n",
    "#https://matplotlib.org/3.2.1/gallery/lines_bars_and_markers/barchart.html#sphx-glr-gallery-lines-bars-and-markers-barchart-py\n",
    "\n",
    "a=['2014','2016','2017','2018']\n",
    "#Valores por filas\n",
    "spain= r_16.loc[r_16['Country']=='Spain']\n",
    "s=spain.iloc[0,0:4].tolist()\n",
    "\n",
    "germany= r_16.loc[r_16['Country']=='Germany']\n",
    "g=germany.iloc[0,0:4].tolist()\n",
    "#Grafico\n",
    "x = np.arange(len(a))  # the label locations\n",
    "width = 0.35  # the width of the bars\n",
    "\n",
    "fig, ax = plt.subplots()\n",
    "rects1 = ax.bar(x - width/2, s, width, label='Spain')\n",
    "rects2 = ax.bar(x + width/2, g, width, label='Germany')\n",
    "\n",
    "# Add some text for labels, title and custom x-axis tick labels, etc.\n",
    "ax.set_ylabel('Scores')\n",
    "ax.set_title('Dengue by country and year')\n",
    "ax.set_xticks(x)\n",
    "ax.set_xticklabels(a)\n",
    "ax.legend()\n",
    "\n",
    "\n",
    "def autolabel(rects):\n",
    "    \"\"\"Attach a text label above each bar in *rects*, displaying its height.\"\"\"\n",
    "    for rect in rects:\n",
    "        height = rect.get_height()\n",
    "        ax.annotate('{}'.format(height),\n",
    "                    xy=(rect.get_x() + rect.get_width() / 2, height),\n",
    "                    xytext=(0, 3),  # 3 points vertical offset\n",
    "                    textcoords=\"offset points\",\n",
    "                    ha='center', va='bottom')\n",
    "\n",
    "\n",
    "autolabel(rects1)\n",
    "autolabel(rects2)\n",
    "\n",
    "fig.tight_layout()\n",
    "\n",
    "plt.show()\n"
   ]
  },
  {
   "cell_type": "markdown",
   "metadata": {},
   "source": [
    "Con este gráfico obtenermos la misma información que con el gráfico anterior, pero esta vez pormenorizando la información por años y cantidades. Se observa un **repunte de casos en 2016, con 958 para Alemania y 261 para España.**"
   ]
  },
  {
   "cell_type": "markdown",
   "metadata": {},
   "source": [
    "**======================**\n",
    "\n",
    "**Análisis casos de Zica**\n",
    "\n",
    "**======================**"
   ]
  },
  {
   "cell_type": "code",
   "execution_count": 11,
   "metadata": {},
   "outputs": [
    {
     "data": {
      "text/html": [
       "<div>\n",
       "<style scoped>\n",
       "    .dataframe tbody tr th:only-of-type {\n",
       "        vertical-align: middle;\n",
       "    }\n",
       "\n",
       "    .dataframe tbody tr th {\n",
       "        vertical-align: top;\n",
       "    }\n",
       "\n",
       "    .dataframe thead th {\n",
       "        text-align: right;\n",
       "    }\n",
       "</style>\n",
       "<table border=\"1\" class=\"dataframe\">\n",
       "  <thead>\n",
       "    <tr style=\"text-align: right;\">\n",
       "      <th></th>\n",
       "      <th>Unnamed: 0</th>\n",
       "      <th>Country</th>\n",
       "      <th>Reported cases_2015</th>\n",
       "      <th>Reported cases_2016</th>\n",
       "      <th>Reported cases_2017</th>\n",
       "      <th>Reported cases_2018</th>\n",
       "    </tr>\n",
       "  </thead>\n",
       "  <tbody>\n",
       "    <tr>\n",
       "      <th>0</th>\n",
       "      <td>0</td>\n",
       "      <td>Austria</td>\n",
       "      <td>1</td>\n",
       "      <td>41</td>\n",
       "      <td>8</td>\n",
       "      <td>0</td>\n",
       "    </tr>\n",
       "    <tr>\n",
       "      <th>1</th>\n",
       "      <td>1</td>\n",
       "      <td>Belgium</td>\n",
       "      <td>1</td>\n",
       "      <td>120</td>\n",
       "      <td>42</td>\n",
       "      <td>2</td>\n",
       "    </tr>\n",
       "    <tr>\n",
       "      <th>2</th>\n",
       "      <td>2</td>\n",
       "      <td>Bulgaria</td>\n",
       "      <td>.</td>\n",
       "      <td>.</td>\n",
       "      <td>.</td>\n",
       "      <td>.</td>\n",
       "    </tr>\n",
       "    <tr>\n",
       "      <th>3</th>\n",
       "      <td>3</td>\n",
       "      <td>Croatia</td>\n",
       "      <td>.</td>\n",
       "      <td>.</td>\n",
       "      <td>0</td>\n",
       "      <td>0</td>\n",
       "    </tr>\n",
       "    <tr>\n",
       "      <th>4</th>\n",
       "      <td>4</td>\n",
       "      <td>Cyprus</td>\n",
       "      <td>.</td>\n",
       "      <td>.</td>\n",
       "      <td>.</td>\n",
       "      <td>.</td>\n",
       "    </tr>\n",
       "  </tbody>\n",
       "</table>\n",
       "</div>"
      ],
      "text/plain": [
       "   Unnamed: 0   Country Reported cases_2015 Reported cases_2016  \\\n",
       "0           0   Austria                   1                  41   \n",
       "1           1   Belgium                   1                 120   \n",
       "2           2  Bulgaria                   .                   .   \n",
       "3           3   Croatia                   .                   .   \n",
       "4           4    Cyprus                   .                   .   \n",
       "\n",
       "  Reported cases_2017 Reported cases_2018  \n",
       "0                   8                   0  \n",
       "1                  42                   2  \n",
       "2                   .                   .  \n",
       "3                   0                   0  \n",
       "4                   .                   .  "
      ]
     },
     "execution_count": 11,
     "metadata": {},
     "output_type": "execute_result"
    }
   ],
   "source": [
    "#Hagamos la misma comparativa, mismos paises, mismos años , distinta enfermedad\n",
    "\n",
    "#Importamos el archivo desde la localización en la que se guardó anteriormente\n",
    "\n",
    "zika=pd.read_csv(open('c:/temp/Zika-annual-epidemiological-report-2018.csv'),delimiter='\\t')\n",
    "zika.head()"
   ]
  },
  {
   "cell_type": "code",
   "execution_count": 12,
   "metadata": {},
   "outputs": [
    {
     "name": "stdout",
     "output_type": "stream",
     "text": [
      "Numero de filas: 32\n",
      "Numero de columnas: 6\n"
     ]
    },
    {
     "data": {
      "text/html": [
       "<div>\n",
       "<style scoped>\n",
       "    .dataframe tbody tr th:only-of-type {\n",
       "        vertical-align: middle;\n",
       "    }\n",
       "\n",
       "    .dataframe tbody tr th {\n",
       "        vertical-align: top;\n",
       "    }\n",
       "\n",
       "    .dataframe thead th {\n",
       "        text-align: right;\n",
       "    }\n",
       "</style>\n",
       "<table border=\"1\" class=\"dataframe\">\n",
       "  <thead>\n",
       "    <tr style=\"text-align: right;\">\n",
       "      <th></th>\n",
       "      <th>Unnamed: 0</th>\n",
       "      <th>Country</th>\n",
       "      <th>Reported_2015</th>\n",
       "      <th>Reported_2016</th>\n",
       "      <th>Reported_2017</th>\n",
       "      <th>Reported_2018</th>\n",
       "    </tr>\n",
       "  </thead>\n",
       "  <tbody>\n",
       "    <tr>\n",
       "      <th>0</th>\n",
       "      <td>0</td>\n",
       "      <td>Austria</td>\n",
       "      <td>1</td>\n",
       "      <td>41</td>\n",
       "      <td>8</td>\n",
       "      <td>0</td>\n",
       "    </tr>\n",
       "    <tr>\n",
       "      <th>1</th>\n",
       "      <td>1</td>\n",
       "      <td>Belgium</td>\n",
       "      <td>1</td>\n",
       "      <td>120</td>\n",
       "      <td>42</td>\n",
       "      <td>2</td>\n",
       "    </tr>\n",
       "    <tr>\n",
       "      <th>2</th>\n",
       "      <td>2</td>\n",
       "      <td>Bulgaria</td>\n",
       "      <td>.</td>\n",
       "      <td>.</td>\n",
       "      <td>.</td>\n",
       "      <td>.</td>\n",
       "    </tr>\n",
       "    <tr>\n",
       "      <th>3</th>\n",
       "      <td>3</td>\n",
       "      <td>Croatia</td>\n",
       "      <td>.</td>\n",
       "      <td>.</td>\n",
       "      <td>0</td>\n",
       "      <td>0</td>\n",
       "    </tr>\n",
       "    <tr>\n",
       "      <th>4</th>\n",
       "      <td>4</td>\n",
       "      <td>Cyprus</td>\n",
       "      <td>.</td>\n",
       "      <td>.</td>\n",
       "      <td>.</td>\n",
       "      <td>.</td>\n",
       "    </tr>\n",
       "  </tbody>\n",
       "</table>\n",
       "</div>"
      ],
      "text/plain": [
       "   Unnamed: 0   Country Reported_2015 Reported_2016 Reported_2017  \\\n",
       "0           0   Austria             1            41             8   \n",
       "1           1   Belgium             1           120            42   \n",
       "2           2  Bulgaria             .             .             .   \n",
       "3           3   Croatia             .             .             0   \n",
       "4           4    Cyprus             .             .             .   \n",
       "\n",
       "  Reported_2018  \n",
       "0             0  \n",
       "1             2  \n",
       "2             .  \n",
       "3             0  \n",
       "4             .  "
      ]
     },
     "execution_count": 12,
     "metadata": {},
     "output_type": "execute_result"
    }
   ],
   "source": [
    "# Caracteristicas básicas del dataframe.\n",
    "# Número de filas\n",
    "print('Numero de filas:' ,len(zika))\n",
    "# Número de columnas.\n",
    "print('Numero de columnas:' ,len(zika.axes[1]))\n",
    "#Renombramos columnas\n",
    "zika.rename(columns={'Reported cases_2015':'Reported_2015','Reported cases_2016':'Reported_2016','Reported cases_2017':'Reported_2017','Reported cases_2018':'Reported_2018'},inplace=True)\n",
    "# Nombres de las columnas\n",
    "zika.axes\n",
    "zika.head()"
   ]
  },
  {
   "cell_type": "code",
   "execution_count": 13,
   "metadata": {},
   "outputs": [
    {
     "data": {
      "text/html": [
       "<div>\n",
       "<style scoped>\n",
       "    .dataframe tbody tr th:only-of-type {\n",
       "        vertical-align: middle;\n",
       "    }\n",
       "\n",
       "    .dataframe tbody tr th {\n",
       "        vertical-align: top;\n",
       "    }\n",
       "\n",
       "    .dataframe thead th {\n",
       "        text-align: right;\n",
       "    }\n",
       "</style>\n",
       "<table border=\"1\" class=\"dataframe\">\n",
       "  <thead>\n",
       "    <tr style=\"text-align: right;\">\n",
       "      <th></th>\n",
       "      <th>Country</th>\n",
       "      <th>Reported_2017</th>\n",
       "      <th>Reported_2018</th>\n",
       "    </tr>\n",
       "  </thead>\n",
       "  <tbody>\n",
       "    <tr>\n",
       "      <th>1</th>\n",
       "      <td>Belgium</td>\n",
       "      <td>42</td>\n",
       "      <td>2</td>\n",
       "    </tr>\n",
       "    <tr>\n",
       "      <th>10</th>\n",
       "      <td>Germany</td>\n",
       "      <td>69</td>\n",
       "      <td>18</td>\n",
       "    </tr>\n",
       "    <tr>\n",
       "      <th>15</th>\n",
       "      <td>Italy</td>\n",
       "      <td>25</td>\n",
       "      <td>2</td>\n",
       "    </tr>\n",
       "    <tr>\n",
       "      <th>28</th>\n",
       "      <td>Spain</td>\n",
       "      <td>44</td>\n",
       "      <td>9</td>\n",
       "    </tr>\n",
       "  </tbody>\n",
       "</table>\n",
       "</div>"
      ],
      "text/plain": [
       "    Country Reported_2017 Reported_2018\n",
       "1   Belgium            42             2\n",
       "10  Germany            69            18\n",
       "15    Italy            25             2\n",
       "28    Spain            44             9"
      ]
     },
     "execution_count": 13,
     "metadata": {},
     "output_type": "execute_result"
    }
   ],
   "source": [
    "#Nos quedamos con las columnas ,\"Reported_2016\",\"Reported_2017\",\"Reported_2018\"\n",
    "#Seguimos el estudio con los mismos paises Italia, Bélgica, Alemania y España.\n",
    "defz=zika.loc[(zika['Country']=='Italy')|(zika['Country']=='Germany')|(zika['Country']=='Belgium')|(zika['Country']=='Spain'),:]\n",
    "defz=defz.loc[:,[\"Country\",\"Reported_2017\",\"Reported_2018\"]]\n",
    "defz\n"
   ]
  },
  {
   "cell_type": "code",
   "execution_count": 14,
   "metadata": {},
   "outputs": [
    {
     "name": "stdout",
     "output_type": "stream",
     "text": [
      "[0 1 2 3]\n",
      "['Belgium', 'Germany', 'Italy', 'Spain']\n"
     ]
    },
    {
     "data": {
      "image/png": "[encoded data removed]",
      "text/plain": [
       "<Figure size 432x288 with 1 Axes>"
      ]
     },
     "metadata": {
      "needs_background": "light"
     },
     "output_type": "display_data"
    }
   ],
   "source": [
    "# COMPARATIVA de paises elegidos por años.\n",
    "#==================================================\n",
    "\n",
    "\n",
    "import numpy as np\n",
    "import matplotlib.pyplot as plt\n",
    "\n",
    "\n",
    "\n",
    "zdiecisiete=defz[\"Reported_2017\"]=defz[\"Reported_2017\"].tolist()#lista con los valores por años\n",
    "zdieciocho=defz[\"Reported_2018\"]=defz[\"Reported_2018\"].tolist()\n",
    "\n",
    "\n",
    "\n",
    "zdiecisiete = list(map(int, zdiecisiete))\n",
    "zdieciocho = list(map(int, zdieciocho))\n",
    "\n",
    "zdata = [zdiecisiete,zdieciocho]\n",
    "\n",
    "\n",
    "\n",
    "zlabels=['2017','2018'] #etiquetas con los años\n",
    "xz = np.arange(4)#Número de paises\n",
    "print (xz)# Localización de etiquetas\n",
    "zcountry=defz['Country'].tolist()#lista de paises\n",
    "print (zcountry)\n",
    "\n",
    "\n",
    "Xz = np.arange(4)\n",
    "fig = plt.figure()\n",
    "ax = fig.add_axes([0,0,1,1])\n",
    "ax.bar(Xz + 0.00, zdata[0], color = 'b', width = 0.25,label=zlabels[0])\n",
    "ax.bar(Xz + 0.25, zdata[1], color = 'g', width = 0.25,label=zlabels[1])\n",
    "\n",
    "\n",
    "\n",
    "ax.set_ylabel('Scores')\n",
    "ax.set_title('Cases Zika by year and Country')\n",
    "ax.set_xticks(xz)\n",
    "ax.set_xticklabels(zcountry)\n",
    "ax.legend()\n",
    "plt.show()\n",
    "\n",
    "\n",
    "\n"
   ]
  },
  {
   "cell_type": "markdown",
   "metadata": {},
   "source": [
    "Si representamos los casos de Zika en los años 2017 y 2018 para Alemania, Bélgica, Italia y España observamos una **mayor incidencia en Alemania en ambos años**, obteniendo un **repunte en 2017 generalizado** por países."
   ]
  },
  {
   "cell_type": "code",
   "execution_count": 15,
   "metadata": {},
   "outputs": [
    {
     "data": {
      "image/png": "[encoded data removed]",
      "text/plain": [
       "<Figure size 432x288 with 1 Axes>"
      ]
     },
     "metadata": {
      "needs_background": "light"
     },
     "output_type": "display_data"
    }
   ],
   "source": [
    "#Análisis estadístico para Zica en España.\n",
    "import seaborn as sns\n",
    "\n",
    "\n",
    "defz_spain=defz.iloc[3,:].tolist()\n",
    "defz_spain=defz_spain[1:5]\n",
    "defz_spain=list(map(int,defz_spain))\n",
    "defz_spain\n",
    "sns.boxplot(defz_spain)\n",
    "\n",
    "plt.title('Zica en España 2017-2018')\n",
    "plt.show()\n"
   ]
  },
  {
   "cell_type": "code",
   "execution_count": 16,
   "metadata": {},
   "outputs": [
    {
     "data": {
      "image/png": "[encoded data removed]",
      "text/plain": [
       "<Figure size 432x288 with 1 Axes>"
      ]
     },
     "metadata": {
      "needs_background": "light"
     },
     "output_type": "display_data"
    }
   ],
   "source": [
    "#Análisis estadístico para Zica en Alemania.\n",
    "\n",
    "\n",
    "defz_g=defz.iloc[1,:].tolist()\n",
    "defz_g=defz_g[1:5]\n",
    "defz_g=list(map(int,defz_g))\n",
    "defz_g\n",
    "sns.boxplot(defz_g)\n",
    "\n",
    "plt.title('Zica en Alemania 2017-2018')\n",
    "plt.show()"
   ]
  },
  {
   "cell_type": "markdown",
   "metadata": {},
   "source": [
    "Comparando los diagramas de cajas correspondientes a España y Alemania en los años 2017-2018, observamos que la mitad de los registros para ambos países , se encuentran en los intervalos aproximados de **[17-35] casos para España y [30-55] para Alemania.**"
   ]
  },
  {
   "cell_type": "code",
   "execution_count": 17,
   "metadata": {},
   "outputs": [
    {
     "data": {
      "image/png": "[encoded data removed]",
      "text/plain": [
       "<Figure size 432x288 with 1 Axes>"
      ]
     },
     "metadata": {
      "needs_background": "light"
     },
     "output_type": "display_data"
    }
   ],
   "source": [
    "#GRAFICO: Zica España vs Alemania\n",
    "#============================================\n",
    "#Transformamos los datos del dataframe ->Valores enteros\n",
    "paises=['Spain','Germany']\n",
    "\n",
    "compare=[defz_spain,defz_g]# Filas tranformadas anteriormente ->de str a int\n",
    "df_c=pd.DataFrame(compare)\n",
    "df_c['Country']=paises\n",
    "p=df_c['Country']\n",
    "#Renombramos columnas.\n",
    "df_c.rename(columns={0:'2017',1:'2018'},inplace=True)\n",
    "#Procedemos con el gráfico\n",
    "#https://pandas.pydata.org/pandas-docs/stable/reference/api/pandas.DataFrame.plot.html\n",
    "\n",
    "\n",
    "x=np.arange(2)\n",
    "df_c.plot(kind='bar',use_index=False,title= 'Zica España vs Alemania',legend=True)\n",
    "plt.xticks(x, ('Spain', 'Germany'))\n",
    "plt.show()\n",
    "df_c\n",
    "\n",
    "\n",
    "plt.show()"
   ]
  },
  {
   "cell_type": "code",
   "execution_count": 18,
   "metadata": {},
   "outputs": [
    {
     "data": {
      "image/png": "[encoded data removed]",
      "text/plain": [
       "<Figure size 432x288 with 1 Axes>"
      ]
     },
     "metadata": {
      "needs_background": "light"
     },
     "output_type": "display_data"
    }
   ],
   "source": [
    "#GRAFICO ZICA POR AÑOS en ALEMANIA y ESPAÑA\n",
    "#==========================================\n",
    "#Grafico obteniendo vectores por filas\n",
    "#https://matplotlib.org/3.2.1/gallery/lines_bars_and_markers/barchart.html#sphx-glr-gallery-lines-bars-and-markers-barchart-py\n",
    "\n",
    "a2=['2017','2018']\n",
    "#Valores por filas\n",
    "spain2= df_c.loc[df_c['Country']=='Spain']\n",
    "s2=spain2.iloc[0,0:2].tolist()\n",
    "\n",
    "\n",
    "germany2= df_c.loc[df_c['Country']=='Germany']\n",
    "g2=germany2.iloc[0,0:2].tolist()\n",
    "\n",
    "#Grafico\n",
    "x = np.arange(len(a2))  # the label locations\n",
    "width = 0.35  # the width of the bars\n",
    "\n",
    "fig, ax = plt.subplots()\n",
    "rects1 = ax.bar(x - width/2, s2, width, label='Spain')\n",
    "rects2 = ax.bar(x + width/2, g2, width, label='Germany')\n",
    "\n",
    "# Add some text for labels, title and custom x-axis tick labels, etc.\n",
    "ax.set_ylabel('Scores')\n",
    "ax.set_title('Zica by country and year')\n",
    "ax.set_xticks(x)\n",
    "ax.set_xticklabels(a2)\n",
    "ax.legend()\n",
    "\n",
    "def autolabel(rects):\n",
    "    \"\"\"Attach a text label above each bar in *rects*, displaying its height.\"\"\"\n",
    "    for rect in rects:\n",
    "        height = rect.get_height()\n",
    "        ax.annotate('{}'.format(height),\n",
    "                    xy=(rect.get_x() + rect.get_width() / 2, height),\n",
    "                    xytext=(0, 3),  # 3 points vertical offset\n",
    "                    textcoords=\"offset points\",\n",
    "                    ha='center', va='bottom')\n",
    "\n",
    "\n",
    "autolabel(rects1)\n",
    "autolabel(rects2)\n",
    "\n",
    "fig.tight_layout()\n",
    "\n",
    "plt.show()"
   ]
  },
  {
   "cell_type": "markdown",
   "metadata": {},
   "source": [
    "Confirmando los resultados obtenidos en gráficas anteriores, observamos un **mayor número de casos de Zika en Alemania**, sobre todo en **2017 con 69 personas infectadas**."
   ]
  },
  {
   "cell_type": "markdown",
   "metadata": {},
   "source": [
    "**=============================**\n",
    "\n",
    "**Análisis casos de chikungunya**\n",
    "\n",
    "**=============================**"
   ]
  },
  {
   "cell_type": "code",
   "execution_count": 19,
   "metadata": {},
   "outputs": [
    {
     "data": {
      "text/html": [
       "<div>\n",
       "<style scoped>\n",
       "    .dataframe tbody tr th:only-of-type {\n",
       "        vertical-align: middle;\n",
       "    }\n",
       "\n",
       "    .dataframe tbody tr th {\n",
       "        vertical-align: top;\n",
       "    }\n",
       "\n",
       "    .dataframe thead th {\n",
       "        text-align: right;\n",
       "    }\n",
       "</style>\n",
       "<table border=\"1\" class=\"dataframe\">\n",
       "  <thead>\n",
       "    <tr style=\"text-align: right;\">\n",
       "      <th></th>\n",
       "      <th>Unnamed: 0</th>\n",
       "      <th>Country</th>\n",
       "      <th>Reported_2014</th>\n",
       "      <th>Rate_2014</th>\n",
       "      <th>Reported_2015</th>\n",
       "      <th>Rate_2015</th>\n",
       "      <th>Reported_2016</th>\n",
       "      <th>Rate_2016</th>\n",
       "      <th>Reported_2017</th>\n",
       "      <th>Rate_2017</th>\n",
       "      <th>Reported_2018</th>\n",
       "      <th>Rate_2018</th>\n",
       "      <th>ASR_2018</th>\n",
       "      <th>Confirmed</th>\n",
       "    </tr>\n",
       "  </thead>\n",
       "  <tbody>\n",
       "    <tr>\n",
       "      <th>0</th>\n",
       "      <td>0</td>\n",
       "      <td>Austria</td>\n",
       "      <td>.</td>\n",
       "      <td>.</td>\n",
       "      <td>.</td>\n",
       "      <td>.</td>\n",
       "      <td>9</td>\n",
       "      <td>0.1</td>\n",
       "      <td>5</td>\n",
       "      <td>0.1</td>\n",
       "      <td>1</td>\n",
       "      <td>0.0</td>\n",
       "      <td>0.0</td>\n",
       "      <td>0</td>\n",
       "    </tr>\n",
       "    <tr>\n",
       "      <th>1</th>\n",
       "      <td>1</td>\n",
       "      <td>Belgium</td>\n",
       "      <td>74</td>\n",
       "      <td>0.7</td>\n",
       "      <td>44</td>\n",
       "      <td>0.4</td>\n",
       "      <td>29</td>\n",
       "      <td>0.3</td>\n",
       "      <td>10</td>\n",
       "      <td>0.1</td>\n",
       "      <td>3</td>\n",
       "      <td>0.0</td>\n",
       "      <td>0.0</td>\n",
       "      <td>3</td>\n",
       "    </tr>\n",
       "    <tr>\n",
       "      <th>2</th>\n",
       "      <td>2</td>\n",
       "      <td>Bulgaria</td>\n",
       "      <td>.</td>\n",
       "      <td>.</td>\n",
       "      <td>.</td>\n",
       "      <td>.</td>\n",
       "      <td>.</td>\n",
       "      <td>.</td>\n",
       "      <td>.</td>\n",
       "      <td>.</td>\n",
       "      <td>.</td>\n",
       "      <td>.</td>\n",
       "      <td>.</td>\n",
       "      <td>.</td>\n",
       "    </tr>\n",
       "    <tr>\n",
       "      <th>3</th>\n",
       "      <td>3</td>\n",
       "      <td>Croatia</td>\n",
       "      <td>0</td>\n",
       "      <td>0.0</td>\n",
       "      <td>0</td>\n",
       "      <td>0.0</td>\n",
       "      <td>0</td>\n",
       "      <td>0.0</td>\n",
       "      <td>0</td>\n",
       "      <td>0.0</td>\n",
       "      <td>0</td>\n",
       "      <td>0.0</td>\n",
       "      <td>0.0</td>\n",
       "      <td>0</td>\n",
       "    </tr>\n",
       "    <tr>\n",
       "      <th>4</th>\n",
       "      <td>4</td>\n",
       "      <td>Cyprus</td>\n",
       "      <td>.</td>\n",
       "      <td>.</td>\n",
       "      <td>.</td>\n",
       "      <td>.</td>\n",
       "      <td>.</td>\n",
       "      <td>.</td>\n",
       "      <td>.</td>\n",
       "      <td>.</td>\n",
       "      <td>.</td>\n",
       "      <td>.</td>\n",
       "      <td>.</td>\n",
       "      <td>.</td>\n",
       "    </tr>\n",
       "  </tbody>\n",
       "</table>\n",
       "</div>"
      ],
      "text/plain": [
       "   Unnamed: 0   Country Reported_2014 Rate_2014 Reported_2015 Rate_2015  \\\n",
       "0           0   Austria             .         .             .         .   \n",
       "1           1   Belgium            74       0.7            44       0.4   \n",
       "2           2  Bulgaria             .         .             .         .   \n",
       "3           3   Croatia             0       0.0             0       0.0   \n",
       "4           4    Cyprus             .         .             .         .   \n",
       "\n",
       "  Reported_2016 Rate_2016 Reported_2017 Rate_2017 Reported_2018 Rate_2018  \\\n",
       "0             9       0.1             5       0.1             1       0.0   \n",
       "1            29       0.3            10       0.1             3       0.0   \n",
       "2             .         .             .         .             .         .   \n",
       "3             0       0.0             0       0.0             0       0.0   \n",
       "4             .         .             .         .             .         .   \n",
       "\n",
       "  ASR_2018 Confirmed  \n",
       "0      0.0         0  \n",
       "1      0.0         3  \n",
       "2        .         .  \n",
       "3      0.0         0  \n",
       "4        .         .  "
      ]
     },
     "execution_count": 19,
     "metadata": {},
     "output_type": "execute_result"
    }
   ],
   "source": [
    "#Hagamos la misma comparativa, mismos paises, mismos años , distinta enfermedad\n",
    "\n",
    "#Importamos el archivo desde la localización en la que se guardó anteriormente\n",
    "\n",
    "chiku=pd.read_csv(open('c:/temp/chikungunya-annual-epidemiological-report-2018.csv'),delimiter='\\t')\n",
    "chiku.head()"
   ]
  },
  {
   "cell_type": "code",
   "execution_count": 20,
   "metadata": {},
   "outputs": [
    {
     "name": "stdout",
     "output_type": "stream",
     "text": [
      "Numero de filas: 36\n",
      "Numero de columnas: 14\n",
      "[RangeIndex(start=0, stop=36, step=1), Index(['Unnamed: 0', 'Country', 'Reported_2014', 'Rate_2014', 'Reported_2015',\n",
      "       'Rate_2015', 'Reported_2016', 'Rate_2016', 'Reported_2017', 'Rate_2017',\n",
      "       'Reported_2018', 'Rate_2018', 'ASR_2018', 'Confirmed'],\n",
      "      dtype='object')]\n"
     ]
    },
    {
     "data": {
      "text/html": [
       "<div>\n",
       "<style scoped>\n",
       "    .dataframe tbody tr th:only-of-type {\n",
       "        vertical-align: middle;\n",
       "    }\n",
       "\n",
       "    .dataframe tbody tr th {\n",
       "        vertical-align: top;\n",
       "    }\n",
       "\n",
       "    .dataframe thead th {\n",
       "        text-align: right;\n",
       "    }\n",
       "</style>\n",
       "<table border=\"1\" class=\"dataframe\">\n",
       "  <thead>\n",
       "    <tr style=\"text-align: right;\">\n",
       "      <th></th>\n",
       "      <th>Country</th>\n",
       "      <th>Reported_2017</th>\n",
       "      <th>Reported_2018</th>\n",
       "    </tr>\n",
       "  </thead>\n",
       "  <tbody>\n",
       "    <tr>\n",
       "      <th>1</th>\n",
       "      <td>Belgium</td>\n",
       "      <td>10</td>\n",
       "      <td>3</td>\n",
       "    </tr>\n",
       "    <tr>\n",
       "      <th>12</th>\n",
       "      <td>Germany</td>\n",
       "      <td>33</td>\n",
       "      <td>26</td>\n",
       "    </tr>\n",
       "    <tr>\n",
       "      <th>17</th>\n",
       "      <td>Italy</td>\n",
       "      <td>289</td>\n",
       "      <td>4</td>\n",
       "    </tr>\n",
       "    <tr>\n",
       "      <th>30</th>\n",
       "      <td>Spain</td>\n",
       "      <td>51</td>\n",
       "      <td>27</td>\n",
       "    </tr>\n",
       "  </tbody>\n",
       "</table>\n",
       "</div>"
      ],
      "text/plain": [
       "    Country Reported_2017 Reported_2018\n",
       "1   Belgium            10             3\n",
       "12  Germany            33            26\n",
       "17    Italy           289             4\n",
       "30    Spain            51            27"
      ]
     },
     "execution_count": 20,
     "metadata": {},
     "output_type": "execute_result"
    }
   ],
   "source": [
    "# Caracteristicas básicas del dataframe.\n",
    "# Número de filas\n",
    "print('Numero de filas:' ,len(chiku))\n",
    "# Número de columnas.\n",
    "print('Numero de columnas:' ,len(chiku.axes[1]))\n",
    "print(chiku.axes)\n",
    "chiku.head()\n",
    "#Nos quedamos con las columnas ,\"Reported_2016\",\"Reported_2017\",\"Reported_2018\"\n",
    "#Seguimos el estudio con los mismos paises Italia, Bélgica, Alemania y España.\n",
    "ck=chiku.loc[(chiku['Country']=='Italy')|(chiku['Country']=='Germany')|(chiku['Country']=='Belgium')|(chiku['Country']=='Spain'),:]\n",
    "ck=ck.loc[:,[\"Country\",\"Reported_2017\",\"Reported_2018\"]]\n",
    "ck"
   ]
  },
  {
   "cell_type": "code",
   "execution_count": 21,
   "metadata": {},
   "outputs": [
    {
     "name": "stdout",
     "output_type": "stream",
     "text": [
      "[0 1 2 3]\n",
      "['Belgium', 'Germany', 'Italy', 'Spain']\n"
     ]
    },
    {
     "data": {
      "image/png": "[encoded data removed]",
      "text/plain": [
       "<Figure size 432x288 with 1 Axes>"
      ]
     },
     "metadata": {
      "needs_background": "light"
     },
     "output_type": "display_data"
    }
   ],
   "source": [
    "# COMPARATIVA de paises elegidos por años.\n",
    "#==================================================\n",
    "\n",
    "\n",
    "import numpy as np\n",
    "import matplotlib.pyplot as plt\n",
    "\n",
    "\n",
    "\n",
    "kdiecisiete=ck[\"Reported_2017\"]=ck[\"Reported_2017\"].tolist()#lista con los valores por años\n",
    "kdieciocho=ck[\"Reported_2018\"]=ck[\"Reported_2018\"].tolist()\n",
    "\n",
    "\n",
    "\n",
    "kdiecisiete = list(map(int, kdiecisiete))\n",
    "kdieciocho = list(map(int, kdieciocho))\n",
    "\n",
    "kdata = [kdiecisiete,kdieciocho]\n",
    "\n",
    "\n",
    "\n",
    "klabels=['2017','2018'] #etiquetas con los años\n",
    "xk = np.arange(4)#Número de paises\n",
    "print (xk)# Localización de etiquetas\n",
    "kcountry=ck['Country'].tolist()#lista de paises\n",
    "print (kcountry)\n",
    "\n",
    "\n",
    "Xk = np.arange(4)\n",
    "fig = plt.figure()\n",
    "ax = fig.add_axes([0,0,1,1])\n",
    "ax.bar(Xk + 0.00, kdata[0], color = 'b', width = 0.25,label=klabels[0])\n",
    "ax.bar(Xk + 0.25, kdata[1], color = 'g', width = 0.25,label=klabels[1])\n",
    "\n",
    "\n",
    "\n",
    "ax.set_ylabel('Scores')\n",
    "ax.set_title('Cases Chikungunya by year and Country')\n",
    "ax.set_xticks(xk)\n",
    "ax.set_xticklabels(kcountry)\n",
    "ax.legend()\n",
    "plt.show()\n"
   ]
  },
  {
   "cell_type": "markdown",
   "metadata": {},
   "source": [
    "En este gráfico y rompiendo la tendencia observada hasta el momento, se evidencia un **mayor número de casos de Chikungunya en Italia en 2017** (con una diferencia notable).Tendríamos que estudiar el caso, por posible influencia de outliers o quizá por motivos derivados de un turismo elevado a ciertas zonas, plagas etc..\n",
    "Sin embargo en el año **2018**, disminuyen los casos de forma generalizada siendo **Alemania y España** los países con mayor número."
   ]
  },
  {
   "cell_type": "code",
   "execution_count": 22,
   "metadata": {},
   "outputs": [
    {
     "data": {
      "image/png": "[encoded data removed]",
      "text/plain": [
       "<Figure size 432x288 with 1 Axes>"
      ]
     },
     "metadata": {
      "needs_background": "light"
     },
     "output_type": "display_data"
    }
   ],
   "source": [
    "#Análisis estadístico para Chikungunya en España.\n",
    "import seaborn as sns\n",
    "\n",
    "\n",
    "ck_spain=ck.iloc[3,:].tolist()\n",
    "ck_spain=ck_spain[1:5]\n",
    "ck_spain=list(map(int,ck_spain))\n",
    "ck_spain\n",
    "sns.boxplot(ck_spain)\n",
    "\n",
    "plt.title('Chikungunya en España 2017-2018')\n",
    "plt.show()"
   ]
  },
  {
   "cell_type": "code",
   "execution_count": 27,
   "metadata": {},
   "outputs": [
    {
     "data": {
      "image/png": "[encoded data removed]",
      "text/plain": [
       "<Figure size 432x288 with 1 Axes>"
      ]
     },
     "metadata": {
      "needs_background": "light"
     },
     "output_type": "display_data"
    }
   ],
   "source": [
    "#Análisis estadístico para Chikungunya en Italia.\n",
    "\n",
    "\n",
    "ck_g=ck.iloc[2,:].tolist()\n",
    "ck_g=ck_g[1:5]\n",
    "ck_g=list(map(int,ck_g))\n",
    "ck_g\n",
    "sns.boxplot(ck_g)\n",
    "\n",
    "plt.title('Chikungunya en Italia 2017-2018')\n",
    "plt.show()"
   ]
  },
  {
   "cell_type": "markdown",
   "metadata": {},
   "source": [
    "Comparando los diagramas de cajas correspondientes a España e Italia en los años 2017-2018, observamos que la mitad de los registros para ambos países , se encuentran en los intervalos aproximados de **[33-45] casos para España y [60-220] para Italia.**"
   ]
  },
  {
   "cell_type": "code",
   "execution_count": 24,
   "metadata": {},
   "outputs": [
    {
     "data": {
      "image/png": "[encoded data removed]",
      "text/plain": [
       "<Figure size 432x288 with 1 Axes>"
      ]
     },
     "metadata": {
      "needs_background": "light"
     },
     "output_type": "display_data"
    }
   ],
   "source": [
    "#GRAFICO: Chikungunya España vs Alemania\n",
    "#============================================\n",
    "#Transformamos los datos del dataframe ->Valores enteros\n",
    "paises=['Spain','Germany']\n",
    "\n",
    "compare=[ck_spain,ck_g]# Filas tranformadas anteriormente ->de str a int\n",
    "df_ck=pd.DataFrame(compare)\n",
    "df_ck['Country']=paises\n",
    "pk=df_ck['Country']\n",
    "#Renombramos columnas.\n",
    "df_ck.rename(columns={0:'2017',1:'2018'},inplace=True)\n",
    "#Procedemos con el gráfico\n",
    "#https://pandas.pydata.org/pandas-docs/stable/reference/api/pandas.DataFrame.plot.html\n",
    "\n",
    "\n",
    "x=np.arange(2)\n",
    "df_ck.plot(kind='bar',use_index=False,title= 'Chikungunya España vs Alemania',legend=True)\n",
    "plt.xticks(x, ('Spain', 'Germany'))\n",
    "plt.show()\n",
    "df_ck\n",
    "\n",
    "\n",
    "plt.show()"
   ]
  },
  {
   "cell_type": "code",
   "execution_count": 25,
   "metadata": {},
   "outputs": [
    {
     "data": {
      "image/png": "[encoded data removed]",
      "text/plain": [
       "<Figure size 432x288 with 1 Axes>"
      ]
     },
     "metadata": {
      "needs_background": "light"
     },
     "output_type": "display_data"
    }
   ],
   "source": [
    "#GRAFICO Chikungunya POR AÑOS en ALEMANIA y ESPAÑA\n",
    "#==========================================\n",
    "#Grafico obteniendo vectores por filas\n",
    "#https://matplotlib.org/3.2.1/gallery/lines_bars_and_markers/barchart.html#sphx-glr-gallery-lines-bars-and-markers-barchart-py\n",
    "\n",
    "a3=['2017','2018']\n",
    "#Valores por filas\n",
    "spain3= df_ck.loc[df_ck['Country']=='Spain']\n",
    "sk=spain3.iloc[0,0:2].tolist()\n",
    "\n",
    "\n",
    "germany3= df_ck.loc[df_ck['Country']=='Germany']\n",
    "gk=germany3.iloc[0,0:2].tolist()\n",
    "\n",
    "#Grafico\n",
    "x = np.arange(len(a2))  # the label locations\n",
    "width = 0.35  # the width of the bars\n",
    "\n",
    "fig, ax = plt.subplots()\n",
    "rects1 = ax.bar(x - width/2, sk, width, label='Spain')\n",
    "rects2 = ax.bar(x + width/2, gk, width, label='Germany')\n",
    "\n",
    "# Add some text for labels, title and custom x-axis tick labels, etc.\n",
    "ax.set_ylabel('Scores')\n",
    "ax.set_title('Chikungunya by country and year')\n",
    "ax.set_xticks(x)\n",
    "ax.set_xticklabels(a3)\n",
    "ax.legend()\n",
    "\n",
    "def autolabel(rects):\n",
    "    \"\"\"Attach a text label above each bar in *rects*, displaying its height.\"\"\"\n",
    "    for rect in rects:\n",
    "        height = rect.get_height()\n",
    "        ax.annotate('{}'.format(height),\n",
    "                    xy=(rect.get_x() + rect.get_width() / 2, height),\n",
    "                    xytext=(0, 3),  # 3 points vertical offset\n",
    "                    textcoords=\"offset points\",\n",
    "                    ha='center', va='bottom')\n",
    "\n",
    "\n",
    "autolabel(rects1)\n",
    "autolabel(rects2)\n",
    "\n",
    "fig.tight_layout()\n",
    "\n",
    "plt.show()\n",
    "\n"
   ]
  },
  {
   "cell_type": "markdown",
   "metadata": {},
   "source": [
    "Si establecemos una comparativa entre España y Alemania, observamos que en Alemania no se encuentran registros de Chikungunya en 2018, contando **España con un mayor número de casos en 2017 (51)**"
   ]
  }
 ],
 "metadata": {
  "kernelspec": {
   "display_name": "Python 3",
   "language": "python",
   "name": "python3"
  },
  "language_info": {
   "codemirror_mode": {
    "name": "ipython",
    "version": 3
   },
   "file_extension": ".py",
   "mimetype": "text/x-python",
   "name": "python",
   "nbconvert_exporter": "python",
   "pygments_lexer": "ipython3",
   "version": "3.7.4"
  }
 },
 "nbformat": 4,
 "nbformat_minor": 2
}
