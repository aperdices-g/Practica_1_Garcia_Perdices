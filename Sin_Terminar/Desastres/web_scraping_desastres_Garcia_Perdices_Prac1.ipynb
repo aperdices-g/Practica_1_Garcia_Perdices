{
 "cells": [
  {
   "cell_type": "code",
   "execution_count": 4,
   "metadata": {},
   "outputs": [
    {
     "name": "stdout",
     "output_type": "stream",
     "text": [
      "<Response [200]>\n"
     ]
    }
   ],
   "source": [
    "import requests\n",
    "\n",
    "response = requests.get(\"https://api.reliefweb.int/v1/reports?appname=apidoc&limit=5\")\n",
    "\n",
    "print(response)"
   ]
  },
  {
   "cell_type": "code",
   "execution_count": 5,
   "metadata": {},
   "outputs": [
    {
     "name": "stdout",
     "output_type": "stream",
     "text": [
      "<bound method Response.json of <Response [200]>>\n"
     ]
    }
   ],
   "source": [
    "print(response.json)"
   ]
  },
  {
   "cell_type": "code",
   "execution_count": 6,
   "metadata": {},
   "outputs": [
    {
     "name": "stdout",
     "output_type": "stream",
     "text": [
      "{'time': 68, 'took': 32, 'totalCount': 822758, 'count': 5, 'data': [{'id': '2270084', 'score': 1, 'fields': {'title': 'Joint Field Training Exercise (FTX) on Flood Rescue conducted as part of BIMSTEC Disaster Management Exercise – 2017'}, 'href': 'https://api.reliefweb.int/v1/reports/2270084'}, {'id': '2270079', 'score': 1, 'fields': {'title': 'Encephalitis vaccinations to be given in Rakhine'}, 'href': 'https://api.reliefweb.int/v1/reports/2270079'}, {'id': '2270074', 'score': 1, 'fields': {'title': 'PM directs flood response in Ninh Binh province'}, 'href': 'https://api.reliefweb.int/v1/reports/2270074'}, {'id': '2270059', 'score': 1, 'fields': {'title': 'DSWD forges new partnership with Tzu Chi Foundation to alleviate hunger in PH'}, 'href': 'https://api.reliefweb.int/v1/reports/2270059'}, {'id': '2270054', 'score': 1, 'fields': {'title': 'Heavy equipment from China turned over to DPWH to fast track Marawi recovery'}, 'href': 'https://api.reliefweb.int/v1/reports/2270054'}], 'links': {'self': {'href': 'https://api.reliefweb.int/v1/reports?appname=apidoc&limit=5'}, 'next': {'href': 'https://api.reliefweb.int/v1/reports?appname=apidoc&limit=5&offset=5'}}}\n"
     ]
    }
   ],
   "source": [
    "import json\n",
    "print(response.json())"
   ]
  },
  {
   "cell_type": "code",
   "execution_count": 7,
   "metadata": {},
   "outputs": [],
   "source": [
    "data = response.json()"
   ]
  },
  {
   "cell_type": "code",
   "execution_count": 8,
   "metadata": {},
   "outputs": [
    {
     "data": {
      "text/plain": [
       "{'time': 68,\n",
       " 'took': 32,\n",
       " 'totalCount': 822758,\n",
       " 'count': 5,\n",
       " 'data': [{'id': '2270084',\n",
       "   'score': 1,\n",
       "   'fields': {'title': 'Joint Field Training Exercise (FTX) on Flood Rescue conducted as part of BIMSTEC Disaster Management Exercise – 2017'},\n",
       "   'href': 'https://api.reliefweb.int/v1/reports/2270084'},\n",
       "  {'id': '2270079',\n",
       "   'score': 1,\n",
       "   'fields': {'title': 'Encephalitis vaccinations to be given in Rakhine'},\n",
       "   'href': 'https://api.reliefweb.int/v1/reports/2270079'},\n",
       "  {'id': '2270074',\n",
       "   'score': 1,\n",
       "   'fields': {'title': 'PM directs flood response in Ninh Binh province'},\n",
       "   'href': 'https://api.reliefweb.int/v1/reports/2270074'},\n",
       "  {'id': '2270059',\n",
       "   'score': 1,\n",
       "   'fields': {'title': 'DSWD forges new partnership with Tzu Chi Foundation to alleviate hunger in PH'},\n",
       "   'href': 'https://api.reliefweb.int/v1/reports/2270059'},\n",
       "  {'id': '2270054',\n",
       "   'score': 1,\n",
       "   'fields': {'title': 'Heavy equipment from China turned over to DPWH to fast track Marawi recovery'},\n",
       "   'href': 'https://api.reliefweb.int/v1/reports/2270054'}],\n",
       " 'links': {'self': {'href': 'https://api.reliefweb.int/v1/reports?appname=apidoc&limit=5'},\n",
       "  'next': {'href': 'https://api.reliefweb.int/v1/reports?appname=apidoc&limit=5&offset=5'}}}"
      ]
     },
     "execution_count": 8,
     "metadata": {},
     "output_type": "execute_result"
    }
   ],
   "source": [
    "data"
   ]
  },
  {
   "cell_type": "code",
   "execution_count": 9,
   "metadata": {},
   "outputs": [
    {
     "data": {
      "text/plain": [
       "68"
      ]
     },
     "execution_count": 9,
     "metadata": {},
     "output_type": "execute_result"
    }
   ],
   "source": [
    "data['time']"
   ]
  },
  {
   "cell_type": "code",
   "execution_count": 10,
   "metadata": {},
   "outputs": [],
   "source": [
    "data2 = data['data']"
   ]
  },
  {
   "cell_type": "code",
   "execution_count": 11,
   "metadata": {},
   "outputs": [
    {
     "data": {
      "text/plain": [
       "{'id': '2270079',\n",
       " 'score': 1,\n",
       " 'fields': {'title': 'Encephalitis vaccinations to be given in Rakhine'},\n",
       " 'href': 'https://api.reliefweb.int/v1/reports/2270079'}"
      ]
     },
     "execution_count": 11,
     "metadata": {},
     "output_type": "execute_result"
    }
   ],
   "source": [
    "data2[1]"
   ]
  },
  {
   "cell_type": "code",
   "execution_count": 12,
   "metadata": {},
   "outputs": [
    {
     "data": {
      "text/plain": [
       "'https://api.reliefweb.int/v1/reports/2270079'"
      ]
     },
     "execution_count": 12,
     "metadata": {},
     "output_type": "execute_result"
    }
   ],
   "source": [
    " data['data'][1]['href']"
   ]
  },
  {
   "cell_type": "code",
   "execution_count": 13,
   "metadata": {},
   "outputs": [],
   "source": [
    "response2 = requests.get(\"https://api.reliefweb.int/v1/reports/2925719\")"
   ]
  },
  {
   "cell_type": "code",
   "execution_count": 14,
   "metadata": {},
   "outputs": [
    {
     "data": {
      "text/plain": [
       "<Response [200]>"
      ]
     },
     "execution_count": 14,
     "metadata": {},
     "output_type": "execute_result"
    }
   ],
   "source": [
    "response2"
   ]
  },
  {
   "cell_type": "code",
   "execution_count": 18,
   "metadata": {},
   "outputs": [],
   "source": [
    "data3=response2.json()"
   ]
  },
  {
   "cell_type": "code",
   "execution_count": 24,
   "metadata": {},
   "outputs": [
    {
     "name": "stdout",
     "output_type": "stream",
     "text": [
      "<class 'list'>\n"
     ]
    }
   ],
   "source": [
    "print(type(data3['data']))"
   ]
  },
  {
   "cell_type": "code",
   "execution_count": 40,
   "metadata": {},
   "outputs": [
    {
     "name": "stdout",
     "output_type": "stream",
     "text": [
      "{'id': '2925719', 'fields': {'date': {'changed': '2018-12-27T06:22:10+00:00', 'created': '2018-12-15T00:00:00+00:00', 'original': '2018-12-15T00:00:00+00:00'}, 'country': [{'href': 'https://api.reliefweb.int/v1/countries/249', 'name': 'Vanuatu', 'location': {'lon': 167.72, 'lat': -16.26}, 'id': 249, 'shortname': 'Vanuatu', 'iso3': 'vut', 'primary': True}], 'origin': 'https://www.vmgd.gov.vu/vmgd/index.php/geohazards/volcano/alert-bulletin#benbowMarum', 'primary_country': {'href': 'https://api.reliefweb.int/v1/countries/249', 'name': 'Vanuatu', 'location': {'lon': 167.72, 'lat': -16.26}, 'id': 249, 'shortname': 'Vanuatu', 'iso3': 'vut'}, 'format': [{'name': 'Situation Report', 'id': 10}], 'disaster_type': [{'code': 'EQ', 'name': 'Earthquake', 'id': 4628}, {'code': 'VO', 'name': 'Volcano', 'id': 4615}], 'language': [{'code': 'en', 'name': 'English', 'id': 267}], 'source': [{'href': 'https://api.reliefweb.int/v1/sources/588', 'longname': 'Government of Vanuatu', 'name': 'Government of Vanuatu', 'id': 588, 'type': {'name': 'Government', 'id': 271}, 'shortname': 'Govt. Vanuatu', 'homepage': 'http://www.vanuatu.gov.vu/'}], 'title': 'Vanuatu Volcano Alert Bulletin n°9 - Ambrym Activity (15 December 2018)', 'body': '**AMBRYM VOLCANO**   \\n\\n16°15’00”S 168°07’00”E Summit Elevation 4377ft (1334m)  \\n\\nCurrent Vanuatu Volcano Alert Level:** Level 3**\\n\\n**Ambrym volcano is in the minor eruption state. The Volcanic Alert Level is raised to Level 3 **.  \\n  \\nAmbrym volcano is in the minor eruption state. The volcanic eruption is happening in the caldera area. The Danger Zone for life safety is limited at the **Danger Zone B which is about 2 km around Benbow and 4 km around Marum craters (including Maben-Mbwelesu, Niri-Mbwelesu and Mbwelesu) **(See Safety Map below).  \\n  \\nObservations and seismic data analysis in 15th December 2018 confirm an intra-caldera flank eruption near Marum crater starting from 6:00am. The activity consists of ongoing lava flows and lava fountains with ash and gas emissions. People from Ambrym and neighboring islands may view volcanic ash and/or gas plumes and hear volcanic explosions. This is a small-scale eruption.  \\n  \\nThe Alert Level for Ambrym volcano has been at the Level 2 since 7 December 2017. The current activity show that Ambrym volcano is undergoing a small scale eruption. This is consistent with the Alert Level 3 activity. Level 3 indicates _‘Minor eruption; Danger is now at 2 km around Benbow and 4 km around Marum’ _. **The possibility that the Ambrym volcano activity escalate to the level of moderate eruption (Level 4) is low for now. **  \\n  \\nAmbrym volcano is a very active volcano in Vanuatu with large caldera of 12 km in diameter and 2 active craters Marum and Benbow. The volcano has been active during historical time at both summit and flank vents, producing moderate explosive eruptions and lava flows that have reached the coast. The larger events include eruptions in 1820, 1894, 1913 or 1929. Over the last seventy years, there are no extra-caldera eruptions. The eruption of 1988, 2015 and now are focused in the caldera.  \\n  \\nAll tourism agencies, local autorities, people of Ambrym and the general public are reminded **not to access the Danger Zone B which is about 2 km radius from Benbow and 4 km from Marum. In this area volcanic ashes and gases may be unbearable. Villages of Ambrym may experience impacts of ash and gas plumes and acid rains, especially those exposed to prevailing trade winds direction **.  \\n**See the safety map and visitors Fact-Sheet of Ambrym volcano at the website** www.vmgd.gov.vu/vmgd/index.php/geohazards/volcano/volcano-info/resources.\\n\\nThe Vanuatu Meteorology and Geohazards Department continues to closely monitor this volcano activity. More information will be provided as soon as necessary.\\n\\n**Note **: « Posted sign » : Signs will be installed later at the locations shown on the image.   \\n  \\n_For further information, please contact Geohazards Division at the Vanuatu Meteorology and Geohazards Department at [geohazards@meteo.gov.vu](https://reliefweb.int/mailto:geohazards@meteo.gov.vu) or 24686 _.', 'url': 'https://reliefweb.int/node/2925719', 'file': [{'preview': {'url-thumb': 'https://reliefweb.int/sites/reliefweb.int/files/styles/m/public/resources-pdf-previews/1217829-ambrym.png', 'url-small': 'https://reliefweb.int/sites/reliefweb.int/files/styles/attachment-small/public/resources-pdf-previews/1217829-ambrym.png', 'url-large': 'https://reliefweb.int/sites/reliefweb.int/files/styles/attachment-large/public/resources-pdf-previews/1217829-ambrym.png', 'url': 'https://reliefweb.int/sites/reliefweb.int/files/resources-pdf-previews/1217829-ambrym.png'}, 'filename': 'ambrym.pdf', 'description': '', 'mimetype': 'application/pdf', 'id': '1217829', 'filesize': '439985', 'url': 'https://reliefweb.int/sites/reliefweb.int/files/resources/ambrym_4.pdf'}], 'url_alias': 'https://reliefweb.int/report/vanuatu/vanuatu-volcano-alert-bulletin-n-9-ambrym-activity-15-december-2018', 'id': 2925719, 'status': 'published', 'body-html': '<p><strong>AMBRYM VOLCANO</strong>   </p>\\n\\n<p>16°15’00”S 168°07’00”E Summit Elevation 4377ft (1334m)  </p>\\n\\n<p>Current Vanuatu Volcano Alert Level:** Level 3**</p>\\n\\n<p>**Ambrym volcano is in the minor eruption state. The Volcanic Alert Level is raised to Level 3 **.  </p>\\n\\n<p>Ambrym volcano is in the minor eruption state. The volcanic eruption is happening in the caldera area. The Danger Zone for life safety is limited at the **Danger Zone B which is about 2 km around Benbow and 4 km around Marum craters (including Maben-Mbwelesu, Niri-Mbwelesu and Mbwelesu) **(See Safety Map below).  </p>\\n\\n<p>Observations and seismic data analysis in 15th December 2018 confirm an intra-caldera flank eruption near Marum crater starting from 6:00am. The activity consists of ongoing lava flows and lava fountains with ash and gas emissions. People from Ambrym and neighboring islands may view volcanic ash and/or gas plumes and hear volcanic explosions. This is a small-scale eruption.  </p>\\n\\n<p>The Alert Level for Ambrym volcano has been at the Level 2 since 7 December 2017. The current activity show that Ambrym volcano is undergoing a small scale eruption. This is consistent with the Alert Level 3 activity. Level 3 indicates _‘Minor eruption; Danger is now at 2 km around Benbow and 4 km around Marum’ _. **The possibility that the Ambrym volcano activity escalate to the level of moderate eruption (Level 4) is low for now. **  </p>\\n\\n<p>Ambrym volcano is a very active volcano in Vanuatu with large caldera of 12 km in diameter and 2 active craters Marum and Benbow. The volcano has been active during historical time at both summit and flank vents, producing moderate explosive eruptions and lava flows that have reached the coast. The larger events include eruptions in 1820, 1894, 1913 or 1929. Over the last seventy years, there are no extra-caldera eruptions. The eruption of 1988, 2015 and now are focused in the caldera.  </p>\\n\\n<p>All tourism agencies, local autorities, people of Ambrym and the general public are reminded **not to access the Danger Zone B which is about 2 km radius from Benbow and 4 km from Marum. In this area volcanic ashes and gases may be unbearable. Villages of Ambrym may experience impacts of ash and gas plumes and acid rains, especially those exposed to prevailing trade winds direction **.<br>\\n<strong>See the safety map and visitors Fact-Sheet of Ambrym volcano at the website</strong> <a href=\"http://www.vmgd.gov.vu/vmgd/index.php/geohazards/volcano/volcano-info/resources\">www.vmgd.gov.vu/vmgd/index.php/geohazards/volcano/volcano-info/resources</a>.</p>\\n\\n<p>The Vanuatu Meteorology and Geohazards Department continues to closely monitor this volcano activity. More information will be provided as soon as necessary.</p>\\n\\n<p>**Note **: « Posted sign » : Signs will be installed later at the locations shown on the image.   </p>\\n\\n<p>_For further information, please contact Geohazards Division at the Vanuatu Meteorology and Geohazards Department at <a href=\"https://reliefweb.int/mailto:geohazards@meteo.gov.vu\">geohazards@meteo.gov.vu</a> or 24686 _.</p>\\n'}}\n"
     ]
    }
   ],
   "source": [
    "data3['data'][0]\n",
    "dic=data3['data'][0]\n",
    "print(dic)"
   ]
  },
  {
   "cell_type": "code",
   "execution_count": 43,
   "metadata": {},
   "outputs": [
    {
     "name": "stdout",
     "output_type": "stream",
     "text": [
      "{'date': {'changed': '2018-12-27T06:22:10+00:00', 'created': '2018-12-15T00:00:00+00:00', 'original': '2018-12-15T00:00:00+00:00'}, 'country': [{'href': 'https://api.reliefweb.int/v1/countries/249', 'name': 'Vanuatu', 'location': {'lon': 167.72, 'lat': -16.26}, 'id': 249, 'shortname': 'Vanuatu', 'iso3': 'vut', 'primary': True}], 'origin': 'https://www.vmgd.gov.vu/vmgd/index.php/geohazards/volcano/alert-bulletin#benbowMarum', 'primary_country': {'href': 'https://api.reliefweb.int/v1/countries/249', 'name': 'Vanuatu', 'location': {'lon': 167.72, 'lat': -16.26}, 'id': 249, 'shortname': 'Vanuatu', 'iso3': 'vut'}, 'format': [{'name': 'Situation Report', 'id': 10}], 'disaster_type': [{'code': 'EQ', 'name': 'Earthquake', 'id': 4628}, {'code': 'VO', 'name': 'Volcano', 'id': 4615}], 'language': [{'code': 'en', 'name': 'English', 'id': 267}], 'source': [{'href': 'https://api.reliefweb.int/v1/sources/588', 'longname': 'Government of Vanuatu', 'name': 'Government of Vanuatu', 'id': 588, 'type': {'name': 'Government', 'id': 271}, 'shortname': 'Govt. Vanuatu', 'homepage': 'http://www.vanuatu.gov.vu/'}], 'title': 'Vanuatu Volcano Alert Bulletin n°9 - Ambrym Activity (15 December 2018)', 'body': '**AMBRYM VOLCANO**   \\n\\n16°15’00”S 168°07’00”E Summit Elevation 4377ft (1334m)  \\n\\nCurrent Vanuatu Volcano Alert Level:** Level 3**\\n\\n**Ambrym volcano is in the minor eruption state. The Volcanic Alert Level is raised to Level 3 **.  \\n  \\nAmbrym volcano is in the minor eruption state. The volcanic eruption is happening in the caldera area. The Danger Zone for life safety is limited at the **Danger Zone B which is about 2 km around Benbow and 4 km around Marum craters (including Maben-Mbwelesu, Niri-Mbwelesu and Mbwelesu) **(See Safety Map below).  \\n  \\nObservations and seismic data analysis in 15th December 2018 confirm an intra-caldera flank eruption near Marum crater starting from 6:00am. The activity consists of ongoing lava flows and lava fountains with ash and gas emissions. People from Ambrym and neighboring islands may view volcanic ash and/or gas plumes and hear volcanic explosions. This is a small-scale eruption.  \\n  \\nThe Alert Level for Ambrym volcano has been at the Level 2 since 7 December 2017. The current activity show that Ambrym volcano is undergoing a small scale eruption. This is consistent with the Alert Level 3 activity. Level 3 indicates _‘Minor eruption; Danger is now at 2 km around Benbow and 4 km around Marum’ _. **The possibility that the Ambrym volcano activity escalate to the level of moderate eruption (Level 4) is low for now. **  \\n  \\nAmbrym volcano is a very active volcano in Vanuatu with large caldera of 12 km in diameter and 2 active craters Marum and Benbow. The volcano has been active during historical time at both summit and flank vents, producing moderate explosive eruptions and lava flows that have reached the coast. The larger events include eruptions in 1820, 1894, 1913 or 1929. Over the last seventy years, there are no extra-caldera eruptions. The eruption of 1988, 2015 and now are focused in the caldera.  \\n  \\nAll tourism agencies, local autorities, people of Ambrym and the general public are reminded **not to access the Danger Zone B which is about 2 km radius from Benbow and 4 km from Marum. In this area volcanic ashes and gases may be unbearable. Villages of Ambrym may experience impacts of ash and gas plumes and acid rains, especially those exposed to prevailing trade winds direction **.  \\n**See the safety map and visitors Fact-Sheet of Ambrym volcano at the website** www.vmgd.gov.vu/vmgd/index.php/geohazards/volcano/volcano-info/resources.\\n\\nThe Vanuatu Meteorology and Geohazards Department continues to closely monitor this volcano activity. More information will be provided as soon as necessary.\\n\\n**Note **: « Posted sign » : Signs will be installed later at the locations shown on the image.   \\n  \\n_For further information, please contact Geohazards Division at the Vanuatu Meteorology and Geohazards Department at [geohazards@meteo.gov.vu](https://reliefweb.int/mailto:geohazards@meteo.gov.vu) or 24686 _.', 'url': 'https://reliefweb.int/node/2925719', 'file': [{'preview': {'url-thumb': 'https://reliefweb.int/sites/reliefweb.int/files/styles/m/public/resources-pdf-previews/1217829-ambrym.png', 'url-small': 'https://reliefweb.int/sites/reliefweb.int/files/styles/attachment-small/public/resources-pdf-previews/1217829-ambrym.png', 'url-large': 'https://reliefweb.int/sites/reliefweb.int/files/styles/attachment-large/public/resources-pdf-previews/1217829-ambrym.png', 'url': 'https://reliefweb.int/sites/reliefweb.int/files/resources-pdf-previews/1217829-ambrym.png'}, 'filename': 'ambrym.pdf', 'description': '', 'mimetype': 'application/pdf', 'id': '1217829', 'filesize': '439985', 'url': 'https://reliefweb.int/sites/reliefweb.int/files/resources/ambrym_4.pdf'}], 'url_alias': 'https://reliefweb.int/report/vanuatu/vanuatu-volcano-alert-bulletin-n-9-ambrym-activity-15-december-2018', 'id': 2925719, 'status': 'published', 'body-html': '<p><strong>AMBRYM VOLCANO</strong>   </p>\\n\\n<p>16°15’00”S 168°07’00”E Summit Elevation 4377ft (1334m)  </p>\\n\\n<p>Current Vanuatu Volcano Alert Level:** Level 3**</p>\\n\\n<p>**Ambrym volcano is in the minor eruption state. The Volcanic Alert Level is raised to Level 3 **.  </p>\\n\\n<p>Ambrym volcano is in the minor eruption state. The volcanic eruption is happening in the caldera area. The Danger Zone for life safety is limited at the **Danger Zone B which is about 2 km around Benbow and 4 km around Marum craters (including Maben-Mbwelesu, Niri-Mbwelesu and Mbwelesu) **(See Safety Map below).  </p>\\n\\n<p>Observations and seismic data analysis in 15th December 2018 confirm an intra-caldera flank eruption near Marum crater starting from 6:00am. The activity consists of ongoing lava flows and lava fountains with ash and gas emissions. People from Ambrym and neighboring islands may view volcanic ash and/or gas plumes and hear volcanic explosions. This is a small-scale eruption.  </p>\\n\\n<p>The Alert Level for Ambrym volcano has been at the Level 2 since 7 December 2017. The current activity show that Ambrym volcano is undergoing a small scale eruption. This is consistent with the Alert Level 3 activity. Level 3 indicates _‘Minor eruption; Danger is now at 2 km around Benbow and 4 km around Marum’ _. **The possibility that the Ambrym volcano activity escalate to the level of moderate eruption (Level 4) is low for now. **  </p>\\n\\n<p>Ambrym volcano is a very active volcano in Vanuatu with large caldera of 12 km in diameter and 2 active craters Marum and Benbow. The volcano has been active during historical time at both summit and flank vents, producing moderate explosive eruptions and lava flows that have reached the coast. The larger events include eruptions in 1820, 1894, 1913 or 1929. Over the last seventy years, there are no extra-caldera eruptions. The eruption of 1988, 2015 and now are focused in the caldera.  </p>\\n\\n<p>All tourism agencies, local autorities, people of Ambrym and the general public are reminded **not to access the Danger Zone B which is about 2 km radius from Benbow and 4 km from Marum. In this area volcanic ashes and gases may be unbearable. Villages of Ambrym may experience impacts of ash and gas plumes and acid rains, especially those exposed to prevailing trade winds direction **.<br>\\n<strong>See the safety map and visitors Fact-Sheet of Ambrym volcano at the website</strong> <a href=\"http://www.vmgd.gov.vu/vmgd/index.php/geohazards/volcano/volcano-info/resources\">www.vmgd.gov.vu/vmgd/index.php/geohazards/volcano/volcano-info/resources</a>.</p>\\n\\n<p>The Vanuatu Meteorology and Geohazards Department continues to closely monitor this volcano activity. More information will be provided as soon as necessary.</p>\\n\\n<p>**Note **: « Posted sign » : Signs will be installed later at the locations shown on the image.   </p>\\n\\n<p>_For further information, please contact Geohazards Division at the Vanuatu Meteorology and Geohazards Department at <a href=\"https://reliefweb.int/mailto:geohazards@meteo.gov.vu\">geohazards@meteo.gov.vu</a> or 24686 _.</p>\\n'}\n"
     ]
    }
   ],
   "source": [
    "dic_fields=data3['data'][0]['fields']['country']\n",
    "print(dic_fields)"
   ]
  },
  {
   "cell_type": "code",
   "execution_count": 53,
   "metadata": {},
   "outputs": [
    {
     "name": "stdout",
     "output_type": "stream",
     "text": [
      "https://reliefweb.int/report/vanuatu/vanuatu-volcano-alert-bulletin-n-9-ambrym-activity-15-december-2018\n"
     ]
    }
   ],
   "source": [
    "dic_fields_source=data3['data'][0]['fields']['url_alias']\n",
    "print(dic_fields_source)"
   ]
  },
  {
   "cell_type": "code",
   "execution_count": 52,
   "metadata": {},
   "outputs": [
    {
     "name": "stdout",
     "output_type": "stream",
     "text": [
      "[{'preview': {'url-thumb': 'https://reliefweb.int/sites/reliefweb.int/files/styles/m/public/resources-pdf-previews/1217829-ambrym.png', 'url-small': 'https://reliefweb.int/sites/reliefweb.int/files/styles/attachment-small/public/resources-pdf-previews/1217829-ambrym.png', 'url-large': 'https://reliefweb.int/sites/reliefweb.int/files/styles/attachment-large/public/resources-pdf-previews/1217829-ambrym.png', 'url': 'https://reliefweb.int/sites/reliefweb.int/files/resources-pdf-previews/1217829-ambrym.png'}, 'filename': 'ambrym.pdf', 'description': '', 'mimetype': 'application/pdf', 'id': '1217829', 'filesize': '439985', 'url': 'https://reliefweb.int/sites/reliefweb.int/files/resources/ambrym_4.pdf'}]\n"
     ]
    }
   ],
   "source": [
    "dic_fields_source=data3['data'][0]['fields']['file']\n",
    "print(dic_fields_source)"
   ]
  },
  {
   "cell_type": "code",
   "execution_count": 44,
   "metadata": {},
   "outputs": [
    {
     "name": "stdout",
     "output_type": "stream",
     "text": [
      "[{'href': 'https://api.reliefweb.int/v1/countries/249', 'name': 'Vanuatu', 'location': {'lon': 167.72, 'lat': -16.26}, 'id': 249, 'shortname': 'Vanuatu', 'iso3': 'vut', 'primary': True}]\n"
     ]
    }
   ],
   "source": [
    "dic_fields_country=data3['data'][0]['fields']['country']\n",
    "print(dic_fields_country)"
   ]
  },
  {
   "cell_type": "code",
   "execution_count": 46,
   "metadata": {},
   "outputs": [
    {
     "name": "stdout",
     "output_type": "stream",
     "text": [
      "https://api.reliefweb.int/v1/countries/249\n"
     ]
    }
   ],
   "source": [
    "dic_fields_country_href=data3['data'][0]['fields']['country'][0]['href']\n",
    "print(dic_fields_country_href)"
   ]
  },
  {
   "cell_type": "code",
   "execution_count": 70,
   "metadata": {
    "scrolled": true
   },
   "outputs": [
    {
     "name": "stdout",
     "output_type": "stream",
     "text": [
      "[<a class=\"accessibility\" href=\"#main\" id=\"skip-link\">Skip to main content</a>, <a href=\"/\">ReliefWeb</a>, <a aria-describedby=\"hint-help\" href=\"/help\">Help</a>, <a aria-describedby=\"hint-login\" href=\"/user/login\">Log in / Register</a>, <a aria-describedby=\"hint-updates\" data-active=\"\" href=\"/updates\">Updates</a>, <a aria-describedby=\"hint-countries\" href=\"/countries\">Countries</a>, <a aria-describedby=\"hint-disasters\" href=\"/disasters\">Disasters</a>, <a aria-describedby=\"hint-organizations\" href=\"/organizations\">Organizations</a>, <a aria-describedby=\"hint-topics\" href=\"/topics\">Topics</a>, <a aria-describedby=\"hint-jobs\" href=\"/jobs\">Jobs</a>, <a aria-describedby=\"hint-training\" href=\"/training\">Training</a>, <a href=\"/country/vut\">Vanuatu</a>, <a href=\"/organization/govt-vanuatu\">Govt. Vanuatu</a>, <a href=\"https://www.vmgd.gov.vu/vmgd/index.php/geohazards/volcano/alert-bulletin#benbowMarum\" rel=\"noopener\" target=\"_blank\">View original</a>, <a download=\"ambrym.pdf\" href=\"https://reliefweb.int/sites/reliefweb.int/files/resources/ambrym_4.pdf\">\n",
      "<img alt=\"\" src=\"https://reliefweb.int/sites/reliefweb.int/files/styles/report-small/public/resources-pdf-previews/1217829-ambrym.png?itok=HX0PqNuV\"/> <strong>Download report</strong> <span>(PDF | 429.67 KB)</span>\n",
      "</a>, <a href=\"http://www.vmgd.gov.vu/vmgd/index.php/geohazards/volcano/volcano-info/resources\">www.vmgd.gov.vu/vmgd/index.php/geohazards/volcano/volcano-info/resources</a>, <a href=\"/country/vut\">Vanuatu</a>, <a href=\"/organization/govt-vanuatu\">Government of Vanuatu</a>, <a href=\"/updates?advanced-search=%28F10%29\">Situation Report</a>, <a href=\"/updates?advanced-search=%28DT4628%29\">Earthquake</a>, <a href=\"/updates?advanced-search=%28DT4615%29\">Volcano</a>, <a href=\"/updates?advanced-search=%28L267%29\">English</a>, <a href=\"https://www.facebook.com/sharer.php?u=https%3A//reliefweb.int/report/vanuatu/vanuatu-volcano-alert-bulletin-n-9-ambrym-activity-15-december-2018%3Futm_medium%3Dsocial%26utm_campaign%3Dshared%26utm_source%3Dfacebook.com&amp;t=Vanuatu%20Volcano%20Alert%20Bulletin%20n%C2%B09%20-%20Ambrym%20Activity%20%2815%20December%202018%29\" rel=\"nofollow noopener noreferrer\" target=\"_blank\" title=\"Share this on Facebook\"><span class=\"accessibility\">Share this on Facebook</span></a>, <a href=\"https://twitter.com/share?url=https%3A//reliefweb.int/report/vanuatu/vanuatu-volcano-alert-bulletin-n-9-ambrym-activity-15-december-2018%3Futm_medium%3Dsocial%26utm_campaign%3Dshared%26utm_source%3Dtwitter.com&amp;text=Vanuatu%20Volcano%20Alert%20Bulletin%20n%C2%B09%20-%20Ambrym%20Activity%20%2815%20December%202018%29&amp;via=reliefweb\" rel=\"nofollow noopener noreferrer\" target=\"_blank\" title=\"Share this on Twitter\"><span class=\"accessibility\">Share this on Twitter</span></a>, <a href=\"https://www.linkedin.com/shareArticle?mini=true&amp;url=https%3A//reliefweb.int/report/vanuatu/vanuatu-volcano-alert-bulletin-n-9-ambrym-activity-15-december-2018%3Futm_medium%3Dsocial%26utm_campaign%3Dshared%26utm_source%3Dlinkedin.com&amp;title=Vanuatu%20Volcano%20Alert%20Bulletin%20n%C2%B09%20-%20Ambrym%20Activity%20%2815%20December%202018%29&amp;summary=&amp;source=ReliefWeb\" rel=\"nofollow noopener noreferrer\" target=\"_blank\" title=\"Post this on LinkedIn\"><span class=\"accessibility\">Post this on LinkedIn</span></a>, <a href=\"/country/vut\">Vanuatu</a>, <a href=\"https://reliefweb.int/report/vanuatu/unosat-tropical-cyclone-harold-population-exposure-analysis-vanuatu-3-april-2020\">UNOSAT - Tropical Cyclone HAROLD Population Exposure Analysis in Vanuatu, 3 April 2020</a>, <a href=\"/organization/unosat\">UNOSAT</a>, <a href=\"/country/vut\">Vanuatu</a>, <a href=\"https://reliefweb.int/report/vanuatu/vanuatu-government-benefits-assets-placed-communities-climate-change-projects\">Vanuatu Government benefits from Assets placed in communities by Climate Change projects</a>, <a href=\"/organization/govt-vanuatu\">Govt. Vanuatu</a>, <a href=\"/country/vut\">Vanuatu</a>, <a href=\"https://reliefweb.int/report/vanuatu/vanuatu-volcano-alert-bulletin-n-2-ambae-activity-march-27th-2020\">Vanuatu Volcano Alert Bulletin n°2 - Ambae Activity (March 27th 2020)</a>, <a href=\"/organization/govt-vanuatu\">Govt. Vanuatu</a>, <a href=\"/country/vut\">Vanuatu</a>, <a href=\"https://reliefweb.int/report/vanuatu/vanuatu-volcano-alert-bulletin-n-2-gaua-activity-march-27th-2020\">Vanuatu Volcano Alert Bulletin n°2 - Gaua Activity (March 27th 2020)</a>, <a href=\"/organization/govt-vanuatu\">Govt. Vanuatu</a>, <a aria-describedby=\"hint-blog\" href=\"/blog\">Blog</a>, <a aria-describedby=\"hint-labs\" href=\"https://labs.reliefweb.int\">Labs</a>, <a aria-describedby=\"hint-about\" href=\"/about\">About Us</a>, <a aria-describedby=\"hint-terms-conditions\" href=\"/terms-conditions\">Terms</a>, <a aria-describedby=\"hint-contact\" href=\"/contact\">Contact</a>, <a href=\"https://www.facebook.com/reliefweb\" rel=\"noopener\" target=\"_blank\"><span class=\"accessibility\">ReliefWeb on Facebook</span></a>, <a href=\"https://twitter.com/reliefweb\" rel=\"noopener\" target=\"_blank\"><span class=\"accessibility\">ReliefWeb on Twitter</span></a>, <a href=\"https://www.linkedin.com/company/reliefweb\" rel=\"noopener\" target=\"_blank\"><span class=\"accessibility\">ReliefWeb on LinkedIn</span></a>, <a href=\"https://www.agendaforhumanity.org\" rel=\"noopener\" target=\"_blank\">Agenda for Humanity</a>, <a href=\"https://cerf.un.org\" rel=\"noopener\" target=\"_blank\">Central Emergency Response Fund</a>, <a href=\"https://redhum.org\" rel=\"noopener\" target=\"_blank\">Redhum</a>, <a href=\"https://fts.unocha.org\" rel=\"noopener\" target=\"_blank\">Financial Tracking Service</a>, <a href=\"https://data.humdata.org\" rel=\"noopener\" target=\"_blank\">Humanitarian Data Exchange</a>, <a href=\"https://humanitarian.id\" rel=\"noopener\" target=\"_blank\">Humanitarian ID</a>, <a href=\"https://humanitarianresponse.info\" rel=\"noopener\" target=\"_blank\">Humanitarian Response</a>, <a href=\"https://interagencystandingcommittee.org \" rel=\"noopener\" target=\"_blank\">Inter-Agency Standing Committee</a>, <a href=\"https://unocha.org\" rel=\"noopener\" target=\"_blank\">OCHA website</a>, <a href=\"https://vosocc.unocha.org\" rel=\"noopener\" target=\"_blank\">Virtual OSOCC</a>, <a href=\"https://www.unocha.org/ocha-digital-services\" rel=\"noopener\" target=\"_blank\">See All<span class=\"accessibility\"> OCHA services</span></a>, <a href=\"https://reliefweb.int/terms-conditions\"><span class=\"accessibility\">ReliefWeb's Terms &amp; Conditions.</span></a>]\n"
     ]
    }
   ],
   "source": [
    "from bs4 import BeautifulSoup\n",
    "import requests\n",
    "url = \"https://reliefweb.int/report/vanuatu/vanuatu-volcano-alert-bulletin-n-9-ambrym-activity-15-december-2018\"\n",
    "broken_html = requests.get(url)\n",
    "# Pasamos el contenido HTML de la web a un objeto BeautifulSoup()\n",
    "soup = BeautifulSoup(broken_html.content, 'html.parser')\n",
    "\n",
    "\n",
    "#Buscamos todas las etiquetas \"a\" e \"img\"\n",
    "\n",
    "soup.find('img')\n",
    "print(soup.find_all('a'))"
   ]
  },
  {
   "cell_type": "code",
   "execution_count": 75,
   "metadata": {},
   "outputs": [
    {
     "name": "stdout",
     "output_type": "stream",
     "text": [
      "<a class=\"accessibility\" href=\"#main\" id=\"skip-link\">Skip to main content</a>\n",
      "#main\n",
      "<a href=\"/\">ReliefWeb</a>\n",
      "/\n",
      "<a aria-describedby=\"hint-help\" href=\"/help\">Help</a>\n",
      "/help\n",
      "<a aria-describedby=\"hint-login\" href=\"/user/login\">Log in / Register</a>\n",
      "/user/login\n",
      "<a aria-describedby=\"hint-updates\" data-active=\"\" href=\"/updates\">Updates</a>\n",
      "/updates\n",
      "<a aria-describedby=\"hint-countries\" href=\"/countries\">Countries</a>\n",
      "/countries\n",
      "<a aria-describedby=\"hint-disasters\" href=\"/disasters\">Disasters</a>\n",
      "/disasters\n",
      "<a aria-describedby=\"hint-organizations\" href=\"/organizations\">Organizations</a>\n",
      "/organizations\n",
      "<a aria-describedby=\"hint-topics\" href=\"/topics\">Topics</a>\n",
      "/topics\n",
      "<a aria-describedby=\"hint-jobs\" href=\"/jobs\">Jobs</a>\n",
      "/jobs\n",
      "<a aria-describedby=\"hint-training\" href=\"/training\">Training</a>\n",
      "/training\n",
      "<a href=\"/country/vut\">Vanuatu</a>\n",
      "/country/vut\n",
      "<a href=\"/organization/govt-vanuatu\">Govt. Vanuatu</a>\n",
      "/organization/govt-vanuatu\n",
      "<a href=\"https://www.vmgd.gov.vu/vmgd/index.php/geohazards/volcano/alert-bulletin#benbowMarum\" rel=\"noopener\" target=\"_blank\">View original</a>\n",
      "https://www.vmgd.gov.vu/vmgd/index.php/geohazards/volcano/alert-bulletin#benbowMarum\n",
      "<a download=\"ambrym.pdf\" href=\"https://reliefweb.int/sites/reliefweb.int/files/resources/ambrym_4.pdf\">\n",
      "<img alt=\"\" src=\"https://reliefweb.int/sites/reliefweb.int/files/styles/report-small/public/resources-pdf-previews/1217829-ambrym.png?itok=HX0PqNuV\"/> <strong>Download report</strong> <span>(PDF | 429.67 KB)</span>\n",
      "</a>\n",
      "https://reliefweb.int/sites/reliefweb.int/files/resources/ambrym_4.pdf\n",
      "<a href=\"http://www.vmgd.gov.vu/vmgd/index.php/geohazards/volcano/volcano-info/resources\">www.vmgd.gov.vu/vmgd/index.php/geohazards/volcano/volcano-info/resources</a>\n",
      "http://www.vmgd.gov.vu/vmgd/index.php/geohazards/volcano/volcano-info/resources\n",
      "<a href=\"/country/vut\">Vanuatu</a>\n",
      "/country/vut\n",
      "<a href=\"/organization/govt-vanuatu\">Government of Vanuatu</a>\n",
      "/organization/govt-vanuatu\n",
      "<a href=\"/updates?advanced-search=%28F10%29\">Situation Report</a>\n",
      "/updates?advanced-search=%28F10%29\n",
      "<a href=\"/updates?advanced-search=%28DT4628%29\">Earthquake</a>\n",
      "/updates?advanced-search=%28DT4628%29\n",
      "<a href=\"/updates?advanced-search=%28DT4615%29\">Volcano</a>\n",
      "/updates?advanced-search=%28DT4615%29\n",
      "<a href=\"/updates?advanced-search=%28L267%29\">English</a>\n",
      "/updates?advanced-search=%28L267%29\n",
      "<a href=\"https://www.facebook.com/sharer.php?u=https%3A//reliefweb.int/report/vanuatu/vanuatu-volcano-alert-bulletin-n-9-ambrym-activity-15-december-2018%3Futm_medium%3Dsocial%26utm_campaign%3Dshared%26utm_source%3Dfacebook.com&amp;t=Vanuatu%20Volcano%20Alert%20Bulletin%20n%C2%B09%20-%20Ambrym%20Activity%20%2815%20December%202018%29\" rel=\"nofollow noopener noreferrer\" target=\"_blank\" title=\"Share this on Facebook\"><span class=\"accessibility\">Share this on Facebook</span></a>\n",
      "https://www.facebook.com/sharer.php?u=https%3A//reliefweb.int/report/vanuatu/vanuatu-volcano-alert-bulletin-n-9-ambrym-activity-15-december-2018%3Futm_medium%3Dsocial%26utm_campaign%3Dshared%26utm_source%3Dfacebook.com&t=Vanuatu%20Volcano%20Alert%20Bulletin%20n%C2%B09%20-%20Ambrym%20Activity%20%2815%20December%202018%29\n",
      "<a href=\"https://twitter.com/share?url=https%3A//reliefweb.int/report/vanuatu/vanuatu-volcano-alert-bulletin-n-9-ambrym-activity-15-december-2018%3Futm_medium%3Dsocial%26utm_campaign%3Dshared%26utm_source%3Dtwitter.com&amp;text=Vanuatu%20Volcano%20Alert%20Bulletin%20n%C2%B09%20-%20Ambrym%20Activity%20%2815%20December%202018%29&amp;via=reliefweb\" rel=\"nofollow noopener noreferrer\" target=\"_blank\" title=\"Share this on Twitter\"><span class=\"accessibility\">Share this on Twitter</span></a>\n",
      "https://twitter.com/share?url=https%3A//reliefweb.int/report/vanuatu/vanuatu-volcano-alert-bulletin-n-9-ambrym-activity-15-december-2018%3Futm_medium%3Dsocial%26utm_campaign%3Dshared%26utm_source%3Dtwitter.com&text=Vanuatu%20Volcano%20Alert%20Bulletin%20n%C2%B09%20-%20Ambrym%20Activity%20%2815%20December%202018%29&via=reliefweb\n",
      "<a href=\"https://www.linkedin.com/shareArticle?mini=true&amp;url=https%3A//reliefweb.int/report/vanuatu/vanuatu-volcano-alert-bulletin-n-9-ambrym-activity-15-december-2018%3Futm_medium%3Dsocial%26utm_campaign%3Dshared%26utm_source%3Dlinkedin.com&amp;title=Vanuatu%20Volcano%20Alert%20Bulletin%20n%C2%B09%20-%20Ambrym%20Activity%20%2815%20December%202018%29&amp;summary=&amp;source=ReliefWeb\" rel=\"nofollow noopener noreferrer\" target=\"_blank\" title=\"Post this on LinkedIn\"><span class=\"accessibility\">Post this on LinkedIn</span></a>\n",
      "https://www.linkedin.com/shareArticle?mini=true&url=https%3A//reliefweb.int/report/vanuatu/vanuatu-volcano-alert-bulletin-n-9-ambrym-activity-15-december-2018%3Futm_medium%3Dsocial%26utm_campaign%3Dshared%26utm_source%3Dlinkedin.com&title=Vanuatu%20Volcano%20Alert%20Bulletin%20n%C2%B09%20-%20Ambrym%20Activity%20%2815%20December%202018%29&summary=&source=ReliefWeb\n",
      "<a href=\"/country/vut\">Vanuatu</a>\n",
      "/country/vut\n",
      "<a href=\"https://reliefweb.int/report/vanuatu/unosat-tropical-cyclone-harold-population-exposure-analysis-vanuatu-3-april-2020\">UNOSAT - Tropical Cyclone HAROLD Population Exposure Analysis in Vanuatu, 3 April 2020</a>\n",
      "https://reliefweb.int/report/vanuatu/unosat-tropical-cyclone-harold-population-exposure-analysis-vanuatu-3-april-2020\n",
      "<a href=\"/organization/unosat\">UNOSAT</a>\n",
      "/organization/unosat\n",
      "<a href=\"/country/vut\">Vanuatu</a>\n",
      "/country/vut\n",
      "<a href=\"https://reliefweb.int/report/vanuatu/vanuatu-government-benefits-assets-placed-communities-climate-change-projects\">Vanuatu Government benefits from Assets placed in communities by Climate Change projects</a>\n",
      "https://reliefweb.int/report/vanuatu/vanuatu-government-benefits-assets-placed-communities-climate-change-projects\n",
      "<a href=\"/organization/govt-vanuatu\">Govt. Vanuatu</a>\n",
      "/organization/govt-vanuatu\n",
      "<a href=\"/country/vut\">Vanuatu</a>\n",
      "/country/vut\n",
      "<a href=\"https://reliefweb.int/report/vanuatu/vanuatu-volcano-alert-bulletin-n-2-ambae-activity-march-27th-2020\">Vanuatu Volcano Alert Bulletin n°2 - Ambae Activity (March 27th 2020)</a>\n",
      "https://reliefweb.int/report/vanuatu/vanuatu-volcano-alert-bulletin-n-2-ambae-activity-march-27th-2020\n",
      "<a href=\"/organization/govt-vanuatu\">Govt. Vanuatu</a>\n",
      "/organization/govt-vanuatu\n",
      "<a href=\"/country/vut\">Vanuatu</a>\n",
      "/country/vut\n",
      "<a href=\"https://reliefweb.int/report/vanuatu/vanuatu-volcano-alert-bulletin-n-2-gaua-activity-march-27th-2020\">Vanuatu Volcano Alert Bulletin n°2 - Gaua Activity (March 27th 2020)</a>\n",
      "https://reliefweb.int/report/vanuatu/vanuatu-volcano-alert-bulletin-n-2-gaua-activity-march-27th-2020\n",
      "<a href=\"/organization/govt-vanuatu\">Govt. Vanuatu</a>\n",
      "/organization/govt-vanuatu\n",
      "<a aria-describedby=\"hint-blog\" href=\"/blog\">Blog</a>\n",
      "/blog\n",
      "<a aria-describedby=\"hint-labs\" href=\"https://labs.reliefweb.int\">Labs</a>\n",
      "https://labs.reliefweb.int\n",
      "<a aria-describedby=\"hint-about\" href=\"/about\">About Us</a>\n",
      "/about\n",
      "<a aria-describedby=\"hint-terms-conditions\" href=\"/terms-conditions\">Terms</a>\n",
      "/terms-conditions\n",
      "<a aria-describedby=\"hint-contact\" href=\"/contact\">Contact</a>\n",
      "/contact\n",
      "<a href=\"https://www.facebook.com/reliefweb\" rel=\"noopener\" target=\"_blank\"><span class=\"accessibility\">ReliefWeb on Facebook</span></a>\n",
      "https://www.facebook.com/reliefweb\n",
      "<a href=\"https://twitter.com/reliefweb\" rel=\"noopener\" target=\"_blank\"><span class=\"accessibility\">ReliefWeb on Twitter</span></a>\n",
      "https://twitter.com/reliefweb\n",
      "<a href=\"https://www.linkedin.com/company/reliefweb\" rel=\"noopener\" target=\"_blank\"><span class=\"accessibility\">ReliefWeb on LinkedIn</span></a>\n",
      "https://www.linkedin.com/company/reliefweb\n",
      "<a href=\"https://www.agendaforhumanity.org\" rel=\"noopener\" target=\"_blank\">Agenda for Humanity</a>\n",
      "https://www.agendaforhumanity.org\n",
      "<a href=\"https://cerf.un.org\" rel=\"noopener\" target=\"_blank\">Central Emergency Response Fund</a>\n",
      "https://cerf.un.org\n",
      "<a href=\"https://redhum.org\" rel=\"noopener\" target=\"_blank\">Redhum</a>\n",
      "https://redhum.org\n",
      "<a href=\"https://fts.unocha.org\" rel=\"noopener\" target=\"_blank\">Financial Tracking Service</a>\n",
      "https://fts.unocha.org\n",
      "<a href=\"https://data.humdata.org\" rel=\"noopener\" target=\"_blank\">Humanitarian Data Exchange</a>\n",
      "https://data.humdata.org\n",
      "<a href=\"https://humanitarian.id\" rel=\"noopener\" target=\"_blank\">Humanitarian ID</a>\n",
      "https://humanitarian.id\n",
      "<a href=\"https://humanitarianresponse.info\" rel=\"noopener\" target=\"_blank\">Humanitarian Response</a>\n",
      "https://humanitarianresponse.info\n",
      "<a href=\"https://interagencystandingcommittee.org \" rel=\"noopener\" target=\"_blank\">Inter-Agency Standing Committee</a>\n",
      "https://interagencystandingcommittee.org \n",
      "<a href=\"https://unocha.org\" rel=\"noopener\" target=\"_blank\">OCHA website</a>\n",
      "https://unocha.org\n",
      "<a href=\"https://vosocc.unocha.org\" rel=\"noopener\" target=\"_blank\">Virtual OSOCC</a>\n",
      "https://vosocc.unocha.org\n",
      "<a href=\"https://www.unocha.org/ocha-digital-services\" rel=\"noopener\" target=\"_blank\">See All<span class=\"accessibility\"> OCHA services</span></a>\n",
      "https://www.unocha.org/ocha-digital-services\n",
      "<a href=\"https://reliefweb.int/terms-conditions\"><span class=\"accessibility\">ReliefWeb's Terms &amp; Conditions.</span></a>\n",
      "https://reliefweb.int/terms-conditions\n"
     ]
    }
   ],
   "source": [
    "tags = soup('a')\n",
    "for tag in tags:\n",
    "    print(tag)\n",
    "    print(tag.get('href'))"
   ]
  },
  {
   "cell_type": "code",
   "execution_count": 76,
   "metadata": {},
   "outputs": [
    {
     "data": {
      "text/plain": [
       "439985"
      ]
     },
     "execution_count": 76,
     "metadata": {},
     "output_type": "execute_result"
    }
   ],
   "source": [
    "#guardar un pdf sobre la actividad del volcán Vanuatu en Diciembre 2018\n",
    "import requests\n",
    "\n",
    "url_pdf = \"https://reliefweb.int/sites/reliefweb.int/files/resources/ambrym_4.pdf\"\n",
    "\n",
    "myfile = requests.get(url_pdf, allow_redirects=True)\n",
    "\n",
    "open('C:/Users/alici/Downloads/ambrym_4.pdf', 'wb').write(myfile.content)"
   ]
  },
  {
   "cell_type": "code",
   "execution_count": null,
   "metadata": {},
   "outputs": [],
   "source": []
  }
 ],
 "metadata": {
  "kernelspec": {
   "display_name": "Python 3",
   "language": "python",
   "name": "python3"
  },
  "language_info": {
   "codemirror_mode": {
    "name": "ipython",
    "version": 3
   },
   "file_extension": ".py",
   "mimetype": "text/x-python",
   "name": "python",
   "nbconvert_exporter": "python",
   "pygments_lexer": "ipython3",
   "version": "3.7.4"
  }
 },
 "nbformat": 4,
 "nbformat_minor": 2
}
